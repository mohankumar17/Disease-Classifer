{
 "cells": [
  {
   "cell_type": "code",
   "execution_count": 1,
   "metadata": {
    "colab": {
     "base_uri": "https://localhost:8080/"
    },
    "id": "IkwvjAyZsbNT",
    "outputId": "2f2eb871-438f-448f-ca29-8176007cd6f6"
   },
   "outputs": [
    {
     "name": "stdout",
     "output_type": "stream",
     "text": [
      "Done\n"
     ]
    }
   ],
   "source": [
    "from zipfile import ZipFile\n",
    "file_name = 'drive/MyDrive/SDP_Datasets/brain-tumor.zip'\n",
    "\n",
    "with ZipFile(file_name,'r') as zip:\n",
    "  zip.extractall()\n",
    "  print('Done')"
   ]
  },
  {
   "cell_type": "code",
   "execution_count": 2,
   "metadata": {
    "id": "VI9_xmjqs2pJ"
   },
   "outputs": [],
   "source": [
    "from keras.layers import Input, Lambda, Dense, Flatten\n",
    "from keras.models import Model\n",
    "from keras.applications.vgg16 import VGG16\n",
    "from keras.applications.vgg16 import preprocess_input\n",
    "from keras.preprocessing import image\n",
    "from keras.preprocessing.image import ImageDataGenerator\n",
    "from keras.models import Sequential\n",
    "import numpy as np\n",
    "from glob import glob\n",
    "import matplotlib.pyplot as plt"
   ]
  },
  {
   "cell_type": "code",
   "execution_count": 3,
   "metadata": {
    "id": "5qMRBPpttZCQ"
   },
   "outputs": [],
   "source": [
    "# re-size all the images to this\n",
    "IMAGE_SIZE = [224, 224]"
   ]
  },
  {
   "cell_type": "code",
   "execution_count": 4,
   "metadata": {
    "id": "_HWzzZH7taK6"
   },
   "outputs": [],
   "source": [
    "train_path = 'Training'\n",
    "valid_path = 'Testing'"
   ]
  },
  {
   "cell_type": "code",
   "execution_count": 5,
   "metadata": {
    "colab": {
     "base_uri": "https://localhost:8080/"
    },
    "id": "O8QXciEdtfjw",
    "outputId": "5fcd8f4e-c955-4b60-8d3b-33621952fe4d"
   },
   "outputs": [
    {
     "name": "stdout",
     "output_type": "stream",
     "text": [
      "Downloading data from https://storage.googleapis.com/tensorflow/keras-applications/vgg16/vgg16_weights_tf_dim_ordering_tf_kernels_notop.h5\n",
      "58892288/58889256 [==============================] - 0s 0us/step\n"
     ]
    }
   ],
   "source": [
    "# add preprocessing layer to the front of VGG\n",
    "vgg = VGG16(input_shape=IMAGE_SIZE + [3], weights='imagenet', include_top=False)\n",
    "# IMAGE_SIZE + [3] - RGB images\n",
    "# include_top = False removes last layer of VGG16 since VGG16 classifies 1000 category of images"
   ]
  },
  {
   "cell_type": "code",
   "execution_count": 6,
   "metadata": {
    "id": "VHyZqwKqtiL0"
   },
   "outputs": [],
   "source": [
    "# Model is already trained, don't train existing weights again\n",
    "for layer in vgg.layers:\n",
    "    layer.trainable = False"
   ]
  },
  {
   "cell_type": "code",
   "execution_count": 7,
   "metadata": {
    "id": "F3OewXDLtk4a"
   },
   "outputs": [],
   "source": [
    "# useful for getting number of classes of dataset\n",
    "folders = glob('Training/*')"
   ]
  },
  {
   "cell_type": "code",
   "execution_count": 8,
   "metadata": {
    "id": "DQevvAoltnVP"
   },
   "outputs": [],
   "source": [
    "x = Flatten()(vgg.output)\n",
    "# x = Dense(1000, activation='relu')(x) # our layers - you can add more if you want\n",
    "prediction = Dense(len(folders), activation='softmax')(x)"
   ]
  },
  {
   "cell_type": "code",
   "execution_count": 9,
   "metadata": {
    "id": "kK2ZdBnUtpEc"
   },
   "outputs": [],
   "source": [
    "# create a model object\n",
    "model = Model(inputs=vgg.input, outputs=prediction)"
   ]
  },
  {
   "cell_type": "code",
   "execution_count": 10,
   "metadata": {
    "colab": {
     "base_uri": "https://localhost:8080/"
    },
    "id": "QxrTgr0StrC5",
    "outputId": "6aeca3be-62eb-4c74-de46-1bbed094921e"
   },
   "outputs": [
    {
     "name": "stdout",
     "output_type": "stream",
     "text": [
      "Model: \"model\"\n",
      "_________________________________________________________________\n",
      "Layer (type)                 Output Shape              Param #   \n",
      "=================================================================\n",
      "input_1 (InputLayer)         [(None, 224, 224, 3)]     0         \n",
      "_________________________________________________________________\n",
      "block1_conv1 (Conv2D)        (None, 224, 224, 64)      1792      \n",
      "_________________________________________________________________\n",
      "block1_conv2 (Conv2D)        (None, 224, 224, 64)      36928     \n",
      "_________________________________________________________________\n",
      "block1_pool (MaxPooling2D)   (None, 112, 112, 64)      0         \n",
      "_________________________________________________________________\n",
      "block2_conv1 (Conv2D)        (None, 112, 112, 128)     73856     \n",
      "_________________________________________________________________\n",
      "block2_conv2 (Conv2D)        (None, 112, 112, 128)     147584    \n",
      "_________________________________________________________________\n",
      "block2_pool (MaxPooling2D)   (None, 56, 56, 128)       0         \n",
      "_________________________________________________________________\n",
      "block3_conv1 (Conv2D)        (None, 56, 56, 256)       295168    \n",
      "_________________________________________________________________\n",
      "block3_conv2 (Conv2D)        (None, 56, 56, 256)       590080    \n",
      "_________________________________________________________________\n",
      "block3_conv3 (Conv2D)        (None, 56, 56, 256)       590080    \n",
      "_________________________________________________________________\n",
      "block3_pool (MaxPooling2D)   (None, 28, 28, 256)       0         \n",
      "_________________________________________________________________\n",
      "block4_conv1 (Conv2D)        (None, 28, 28, 512)       1180160   \n",
      "_________________________________________________________________\n",
      "block4_conv2 (Conv2D)        (None, 28, 28, 512)       2359808   \n",
      "_________________________________________________________________\n",
      "block4_conv3 (Conv2D)        (None, 28, 28, 512)       2359808   \n",
      "_________________________________________________________________\n",
      "block4_pool (MaxPooling2D)   (None, 14, 14, 512)       0         \n",
      "_________________________________________________________________\n",
      "block5_conv1 (Conv2D)        (None, 14, 14, 512)       2359808   \n",
      "_________________________________________________________________\n",
      "block5_conv2 (Conv2D)        (None, 14, 14, 512)       2359808   \n",
      "_________________________________________________________________\n",
      "block5_conv3 (Conv2D)        (None, 14, 14, 512)       2359808   \n",
      "_________________________________________________________________\n",
      "block5_pool (MaxPooling2D)   (None, 7, 7, 512)         0         \n",
      "_________________________________________________________________\n",
      "flatten (Flatten)            (None, 25088)             0         \n",
      "_________________________________________________________________\n",
      "dense (Dense)                (None, 4)                 100356    \n",
      "=================================================================\n",
      "Total params: 14,815,044\n",
      "Trainable params: 100,356\n",
      "Non-trainable params: 14,714,688\n",
      "_________________________________________________________________\n"
     ]
    }
   ],
   "source": [
    "# view the structure of the model\n",
    "model.summary()"
   ]
  },
  {
   "cell_type": "code",
   "execution_count": 11,
   "metadata": {
    "id": "d_C6JoxWttTC"
   },
   "outputs": [],
   "source": [
    "model.compile(\n",
    "  loss='categorical_crossentropy',\n",
    "  optimizer='adam',\n",
    "  metrics=['accuracy']\n",
    ")"
   ]
  },
  {
   "cell_type": "code",
   "execution_count": 12,
   "metadata": {
    "colab": {
     "base_uri": "https://localhost:8080/"
    },
    "id": "1ciloQTctwQS",
    "outputId": "fe4276ea-a4de-4d18-feb4-e2f0b6da10ac"
   },
   "outputs": [
    {
     "name": "stdout",
     "output_type": "stream",
     "text": [
      "Found 2870 images belonging to 4 classes.\n",
      "Found 394 images belonging to 4 classes.\n"
     ]
    }
   ],
   "source": [
    "from keras.preprocessing.image import ImageDataGenerator\n",
    "\n",
    "train_datagen = ImageDataGenerator(rescale = 1./255,\n",
    "                                   shear_range = 0.2,\n",
    "                                   zoom_range = 0.2,\n",
    "                                   horizontal_flip = True)\n",
    "\n",
    "test_datagen = ImageDataGenerator(rescale = 1./255)\n",
    "\n",
    "training_set = train_datagen.flow_from_directory('Training',\n",
    "                                                 target_size = (224, 224),\n",
    "                                                 batch_size = 32,\n",
    "                                                 class_mode = 'categorical')\n",
    "\n",
    "test_set = test_datagen.flow_from_directory('Testing',\n",
    "                                            target_size = (224, 224),\n",
    "                                            batch_size = 32,\n",
    "                                            class_mode = 'categorical')"
   ]
  },
  {
   "cell_type": "code",
   "execution_count": 13,
   "metadata": {
    "colab": {
     "base_uri": "https://localhost:8080/"
    },
    "id": "mYzctc4Et06V",
    "outputId": "24f2cf07-3beb-4bd4-9b7b-a1bcaa88846b"
   },
   "outputs": [
    {
     "name": "stderr",
     "output_type": "stream",
     "text": [
      "/usr/local/lib/python3.6/dist-packages/tensorflow/python/keras/engine/training.py:1844: UserWarning: `Model.fit_generator` is deprecated and will be removed in a future version. Please use `Model.fit`, which supports generators.\n",
      "  warnings.warn('`Model.fit_generator` is deprecated and '\n"
     ]
    },
    {
     "name": "stdout",
     "output_type": "stream",
     "text": [
      "Epoch 1/20\n",
      "90/90 [==============================] - 49s 456ms/step - loss: 1.4143 - accuracy: 0.5305 - val_loss: 1.7969 - val_accuracy: 0.5660\n",
      "Epoch 2/20\n",
      "90/90 [==============================] - 39s 437ms/step - loss: 0.4602 - accuracy: 0.8296 - val_loss: 1.5231 - val_accuracy: 0.6878\n",
      "Epoch 3/20\n",
      "90/90 [==============================] - 40s 439ms/step - loss: 0.3525 - accuracy: 0.8567 - val_loss: 1.5723 - val_accuracy: 0.6878\n",
      "Epoch 4/20\n",
      "90/90 [==============================] - 40s 439ms/step - loss: 0.2835 - accuracy: 0.9013 - val_loss: 1.2539 - val_accuracy: 0.6929\n",
      "Epoch 5/20\n",
      "90/90 [==============================] - 40s 441ms/step - loss: 0.2659 - accuracy: 0.8982 - val_loss: 1.5205 - val_accuracy: 0.7335\n",
      "Epoch 6/20\n",
      "90/90 [==============================] - 39s 438ms/step - loss: 0.2256 - accuracy: 0.9217 - val_loss: 1.5595 - val_accuracy: 0.7411\n",
      "Epoch 7/20\n",
      "90/90 [==============================] - 40s 440ms/step - loss: 0.1935 - accuracy: 0.9248 - val_loss: 1.7764 - val_accuracy: 0.7360\n",
      "Epoch 8/20\n",
      "90/90 [==============================] - 40s 439ms/step - loss: 0.1936 - accuracy: 0.9254 - val_loss: 1.6637 - val_accuracy: 0.6853\n",
      "Epoch 9/20\n",
      "90/90 [==============================] - 40s 439ms/step - loss: 0.2037 - accuracy: 0.9290 - val_loss: 1.5980 - val_accuracy: 0.7462\n",
      "Epoch 10/20\n",
      "90/90 [==============================] - 39s 437ms/step - loss: 0.1349 - accuracy: 0.9555 - val_loss: 1.9574 - val_accuracy: 0.7284\n",
      "Epoch 11/20\n",
      "90/90 [==============================] - 40s 440ms/step - loss: 0.1461 - accuracy: 0.9514 - val_loss: 1.6093 - val_accuracy: 0.7766\n",
      "Epoch 12/20\n",
      "90/90 [==============================] - 40s 438ms/step - loss: 0.1184 - accuracy: 0.9630 - val_loss: 1.7911 - val_accuracy: 0.7640\n",
      "Epoch 13/20\n",
      "90/90 [==============================] - 40s 442ms/step - loss: 0.1561 - accuracy: 0.9417 - val_loss: 2.1705 - val_accuracy: 0.7589\n",
      "Epoch 14/20\n",
      "90/90 [==============================] - 39s 437ms/step - loss: 0.1236 - accuracy: 0.9543 - val_loss: 1.4485 - val_accuracy: 0.7716\n",
      "Epoch 15/20\n",
      "90/90 [==============================] - 40s 439ms/step - loss: 0.1108 - accuracy: 0.9587 - val_loss: 1.7538 - val_accuracy: 0.7919\n",
      "Epoch 16/20\n",
      "90/90 [==============================] - 39s 438ms/step - loss: 0.1074 - accuracy: 0.9678 - val_loss: 2.0633 - val_accuracy: 0.7462\n",
      "Epoch 17/20\n",
      "90/90 [==============================] - 40s 439ms/step - loss: 0.0937 - accuracy: 0.9715 - val_loss: 2.1211 - val_accuracy: 0.7640\n",
      "Epoch 18/20\n",
      "90/90 [==============================] - 39s 438ms/step - loss: 0.0794 - accuracy: 0.9770 - val_loss: 1.9685 - val_accuracy: 0.7640\n",
      "Epoch 19/20\n",
      "90/90 [==============================] - 40s 439ms/step - loss: 0.0783 - accuracy: 0.9778 - val_loss: 2.0392 - val_accuracy: 0.7792\n",
      "Epoch 20/20\n",
      "90/90 [==============================] - 39s 436ms/step - loss: 0.0754 - accuracy: 0.9796 - val_loss: 1.7666 - val_accuracy: 0.7843\n"
     ]
    }
   ],
   "source": [
    "# fit the model\n",
    "r = model.fit_generator(\n",
    "  training_set,\n",
    "  validation_data=test_set,\n",
    "  epochs = 20,\n",
    "  steps_per_epoch=len(training_set),\n",
    "  validation_steps=len(test_set)\n",
    ")"
   ]
  },
  {
   "cell_type": "code",
   "execution_count": 14,
   "metadata": {
    "id": "lNA0NvbZt4Nc"
   },
   "outputs": [],
   "source": [
    "from keras.models import load_model\n",
    "model.save('brain-tumor-model.h5')"
   ]
  },
  {
   "cell_type": "code",
   "execution_count": null,
   "metadata": {
    "id": "FeiOtfIEx9mJ"
   },
   "outputs": [],
   "source": []
  }
 ],
 "metadata": {
  "accelerator": "GPU",
  "colab": {
   "name": "Brain_Tumor.ipynb",
   "provenance": []
  },
  "kernelspec": {
   "display_name": "Python 3",
   "language": "python",
   "name": "python3"
  },
  "language_info": {
   "codemirror_mode": {
    "name": "ipython",
    "version": 3
   },
   "file_extension": ".py",
   "mimetype": "text/x-python",
   "name": "python",
   "nbconvert_exporter": "python",
   "pygments_lexer": "ipython3",
   "version": "3.6.12"
  }
 },
 "nbformat": 4,
 "nbformat_minor": 1
}
