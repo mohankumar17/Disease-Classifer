{
 "cells": [
  {
   "cell_type": "code",
   "execution_count": 3,
   "metadata": {
    "id": "VI9_xmjqs2pJ"
   },
   "outputs": [],
   "source": [
    "from keras.layers import Input, Lambda, Dense, Flatten\n",
    "from keras.models import Model\n",
    "from keras.applications.vgg16 import VGG16\n",
    "from keras.applications.vgg16 import preprocess_input\n",
    "from keras.preprocessing import image\n",
    "from keras.preprocessing.image import ImageDataGenerator\n",
    "from keras.models import Sequential\n",
    "import numpy as np\n",
    "from glob import glob\n",
    "import matplotlib.pyplot as plt"
   ]
  },
  {
   "cell_type": "code",
   "execution_count": 4,
   "metadata": {
    "id": "5qMRBPpttZCQ"
   },
   "outputs": [],
   "source": [
    "# re-size all the images to this\n",
    "IMAGE_SIZE = [224, 224]"
   ]
  },
  {
   "cell_type": "code",
   "execution_count": 5,
   "metadata": {
    "id": "_HWzzZH7taK6"
   },
   "outputs": [],
   "source": [
    "train_path = \"diabetic-ratino/train\"\n",
    "valid_path = \"diabetic-ratino/test\""
   ]
  },
  {
   "cell_type": "code",
   "execution_count": 6,
   "metadata": {
    "colab": {
     "base_uri": "https://localhost:8080/"
    },
    "id": "O8QXciEdtfjw",
    "outputId": "6e310786-21a1-44f6-b4d0-3f841a6c1479"
   },
   "outputs": [
    {
     "name": "stdout",
     "output_type": "stream",
     "text": [
      "Downloading data from https://storage.googleapis.com/tensorflow/keras-applications/vgg16/vgg16_weights_tf_dim_ordering_tf_kernels_notop.h5\n",
      "58892288/58889256 [==============================] - 0s 0us/step\n"
     ]
    }
   ],
   "source": [
    "vgg = VGG16(input_shape=IMAGE_SIZE + [3], weights='imagenet', include_top=False)"
   ]
  },
  {
   "cell_type": "code",
   "execution_count": 7,
   "metadata": {
    "id": "VHyZqwKqtiL0"
   },
   "outputs": [],
   "source": [
    "# Model is already trained, don't train existing weights again\n",
    "for layer in vgg.layers:\n",
    "    layer.trainable = False"
   ]
  },
  {
   "cell_type": "code",
   "execution_count": 8,
   "metadata": {
    "id": "F3OewXDLtk4a"
   },
   "outputs": [],
   "source": [
    "# useful for getting number of classes of dataset\n",
    "folders = glob('diabetic-ratino/train/*')"
   ]
  },
  {
   "cell_type": "code",
   "execution_count": 9,
   "metadata": {
    "id": "DQevvAoltnVP"
   },
   "outputs": [],
   "source": [
    "x = Flatten()(vgg.output)\n",
    "prediction = Dense(len(folders), activation='softmax')(x)"
   ]
  },
  {
   "cell_type": "code",
   "execution_count": 10,
   "metadata": {
    "id": "kK2ZdBnUtpEc"
   },
   "outputs": [],
   "source": [
    "# create a model object\n",
    "model = Model(inputs=vgg.input, outputs=prediction)"
   ]
  },
  {
   "cell_type": "code",
   "execution_count": 11,
   "metadata": {
    "colab": {
     "base_uri": "https://localhost:8080/"
    },
    "id": "QxrTgr0StrC5",
    "outputId": "b84586df-1db2-4f72-abb9-b73feac613f8"
   },
   "outputs": [
    {
     "name": "stdout",
     "output_type": "stream",
     "text": [
      "Model: \"model\"\n",
      "_________________________________________________________________\n",
      "Layer (type)                 Output Shape              Param #   \n",
      "=================================================================\n",
      "input_1 (InputLayer)         [(None, 224, 224, 3)]     0         \n",
      "_________________________________________________________________\n",
      "block1_conv1 (Conv2D)        (None, 224, 224, 64)      1792      \n",
      "_________________________________________________________________\n",
      "block1_conv2 (Conv2D)        (None, 224, 224, 64)      36928     \n",
      "_________________________________________________________________\n",
      "block1_pool (MaxPooling2D)   (None, 112, 112, 64)      0         \n",
      "_________________________________________________________________\n",
      "block2_conv1 (Conv2D)        (None, 112, 112, 128)     73856     \n",
      "_________________________________________________________________\n",
      "block2_conv2 (Conv2D)        (None, 112, 112, 128)     147584    \n",
      "_________________________________________________________________\n",
      "block2_pool (MaxPooling2D)   (None, 56, 56, 128)       0         \n",
      "_________________________________________________________________\n",
      "block3_conv1 (Conv2D)        (None, 56, 56, 256)       295168    \n",
      "_________________________________________________________________\n",
      "block3_conv2 (Conv2D)        (None, 56, 56, 256)       590080    \n",
      "_________________________________________________________________\n",
      "block3_conv3 (Conv2D)        (None, 56, 56, 256)       590080    \n",
      "_________________________________________________________________\n",
      "block3_pool (MaxPooling2D)   (None, 28, 28, 256)       0         \n",
      "_________________________________________________________________\n",
      "block4_conv1 (Conv2D)        (None, 28, 28, 512)       1180160   \n",
      "_________________________________________________________________\n",
      "block4_conv2 (Conv2D)        (None, 28, 28, 512)       2359808   \n",
      "_________________________________________________________________\n",
      "block4_conv3 (Conv2D)        (None, 28, 28, 512)       2359808   \n",
      "_________________________________________________________________\n",
      "block4_pool (MaxPooling2D)   (None, 14, 14, 512)       0         \n",
      "_________________________________________________________________\n",
      "block5_conv1 (Conv2D)        (None, 14, 14, 512)       2359808   \n",
      "_________________________________________________________________\n",
      "block5_conv2 (Conv2D)        (None, 14, 14, 512)       2359808   \n",
      "_________________________________________________________________\n",
      "block5_conv3 (Conv2D)        (None, 14, 14, 512)       2359808   \n",
      "_________________________________________________________________\n",
      "block5_pool (MaxPooling2D)   (None, 7, 7, 512)         0         \n",
      "_________________________________________________________________\n",
      "flatten (Flatten)            (None, 25088)             0         \n",
      "_________________________________________________________________\n",
      "dense (Dense)                (None, 2)                 50178     \n",
      "=================================================================\n",
      "Total params: 14,764,866\n",
      "Trainable params: 50,178\n",
      "Non-trainable params: 14,714,688\n",
      "_________________________________________________________________\n"
     ]
    }
   ],
   "source": [
    "# view the structure of the model\n",
    "model.summary()"
   ]
  },
  {
   "cell_type": "code",
   "execution_count": 12,
   "metadata": {
    "id": "d_C6JoxWttTC"
   },
   "outputs": [],
   "source": [
    "model.compile(\n",
    "  loss='categorical_crossentropy',\n",
    "  optimizer='adam',\n",
    "  metrics=['accuracy']\n",
    ")"
   ]
  },
  {
   "cell_type": "code",
   "execution_count": 13,
   "metadata": {
    "colab": {
     "base_uri": "https://localhost:8080/"
    },
    "id": "1ciloQTctwQS",
    "outputId": "a0686810-5ea5-48f4-bb89-162eeb7e2a91"
   },
   "outputs": [
    {
     "name": "stdout",
     "output_type": "stream",
     "text": [
      "Found 2930 images belonging to 2 classes.\n",
      "Found 732 images belonging to 2 classes.\n"
     ]
    }
   ],
   "source": [
    "from keras.preprocessing.image import ImageDataGenerator\n",
    "\n",
    "train_datagen = ImageDataGenerator(rescale = 1./255,\n",
    "                                   shear_range = 0.2,\n",
    "                                   zoom_range = 0.2,\n",
    "                                   horizontal_flip = True)\n",
    "\n",
    "test_datagen = ImageDataGenerator(rescale = 1./255)\n",
    "\n",
    "training_set = train_datagen.flow_from_directory(\"diabetic-ratino/train\",\n",
    "                                                 target_size = (224, 224),\n",
    "                                                 batch_size = 32,\n",
    "                                                 class_mode = 'categorical')\n",
    "\n",
    "test_set = test_datagen.flow_from_directory(\"diabetic-ratino/test\",\n",
    "                                            target_size = (224, 224),\n",
    "                                            batch_size = 32,\n",
    "                                            class_mode = 'categorical')"
   ]
  },
  {
   "cell_type": "code",
   "execution_count": 14,
   "metadata": {
    "colab": {
     "base_uri": "https://localhost:8080/"
    },
    "id": "mYzctc4Et06V",
    "outputId": "0a1ee96b-2cc5-49bd-a739-0807c8cce5c6"
   },
   "outputs": [
    {
     "name": "stderr",
     "output_type": "stream",
     "text": [
      "/usr/local/lib/python3.6/dist-packages/tensorflow/python/keras/engine/training.py:1844: UserWarning: `Model.fit_generator` is deprecated and will be removed in a future version. Please use `Model.fit`, which supports generators.\n",
      "  warnings.warn('`Model.fit_generator` is deprecated and '\n"
     ]
    },
    {
     "name": "stdout",
     "output_type": "stream",
     "text": [
      "Epoch 1/30\n",
      "92/92 [==============================] - 49s 440ms/step - loss: 0.6366 - accuracy: 0.7745 - val_loss: 0.2517 - val_accuracy: 0.9208\n",
      "Epoch 2/30\n",
      "92/92 [==============================] - 39s 422ms/step - loss: 0.1943 - accuracy: 0.9321 - val_loss: 0.1663 - val_accuracy: 0.9385\n",
      "Epoch 3/30\n",
      "92/92 [==============================] - 39s 420ms/step - loss: 0.2024 - accuracy: 0.9334 - val_loss: 0.1832 - val_accuracy: 0.9440\n",
      "Epoch 4/30\n",
      "92/92 [==============================] - 39s 420ms/step - loss: 0.1818 - accuracy: 0.9361 - val_loss: 0.2358 - val_accuracy: 0.8948\n",
      "Epoch 5/30\n",
      "92/92 [==============================] - 39s 422ms/step - loss: 0.1659 - accuracy: 0.9428 - val_loss: 0.1433 - val_accuracy: 0.9522\n",
      "Epoch 6/30\n",
      "92/92 [==============================] - 39s 425ms/step - loss: 0.1667 - accuracy: 0.9420 - val_loss: 0.1486 - val_accuracy: 0.9522\n",
      "Epoch 7/30\n",
      "92/92 [==============================] - 39s 419ms/step - loss: 0.1589 - accuracy: 0.9492 - val_loss: 0.1330 - val_accuracy: 0.9481\n",
      "Epoch 8/30\n",
      "92/92 [==============================] - 39s 420ms/step - loss: 0.1781 - accuracy: 0.9371 - val_loss: 0.1264 - val_accuracy: 0.9536\n",
      "Epoch 9/30\n",
      "92/92 [==============================] - 39s 419ms/step - loss: 0.1533 - accuracy: 0.9474 - val_loss: 0.1630 - val_accuracy: 0.9413\n",
      "Epoch 10/30\n",
      "92/92 [==============================] - 39s 421ms/step - loss: 0.1550 - accuracy: 0.9462 - val_loss: 0.1826 - val_accuracy: 0.9467\n",
      "Epoch 11/30\n",
      "92/92 [==============================] - 39s 422ms/step - loss: 0.1389 - accuracy: 0.9569 - val_loss: 0.1373 - val_accuracy: 0.9563\n",
      "Epoch 12/30\n",
      "92/92 [==============================] - 39s 421ms/step - loss: 0.1970 - accuracy: 0.9395 - val_loss: 0.1261 - val_accuracy: 0.9590\n",
      "Epoch 13/30\n",
      "92/92 [==============================] - 39s 426ms/step - loss: 0.1569 - accuracy: 0.9516 - val_loss: 0.1229 - val_accuracy: 0.9536\n",
      "Epoch 14/30\n",
      "92/92 [==============================] - 39s 427ms/step - loss: 0.1438 - accuracy: 0.9490 - val_loss: 0.1338 - val_accuracy: 0.9522\n",
      "Epoch 15/30\n",
      "92/92 [==============================] - 39s 425ms/step - loss: 0.2327 - accuracy: 0.9302 - val_loss: 0.1974 - val_accuracy: 0.9208\n",
      "Epoch 16/30\n",
      "92/92 [==============================] - 39s 422ms/step - loss: 0.1244 - accuracy: 0.9611 - val_loss: 0.1229 - val_accuracy: 0.9549\n",
      "Epoch 17/30\n",
      "92/92 [==============================] - 39s 428ms/step - loss: 0.1196 - accuracy: 0.9588 - val_loss: 0.2863 - val_accuracy: 0.9112\n",
      "Epoch 18/30\n",
      "92/92 [==============================] - 39s 419ms/step - loss: 0.1705 - accuracy: 0.9407 - val_loss: 0.1252 - val_accuracy: 0.9467\n",
      "Epoch 19/30\n",
      "92/92 [==============================] - 39s 428ms/step - loss: 0.1590 - accuracy: 0.9424 - val_loss: 0.1375 - val_accuracy: 0.9536\n",
      "Epoch 20/30\n",
      "92/92 [==============================] - 39s 421ms/step - loss: 0.1374 - accuracy: 0.9510 - val_loss: 0.1163 - val_accuracy: 0.9522\n",
      "Epoch 21/30\n",
      "92/92 [==============================] - 39s 427ms/step - loss: 0.1232 - accuracy: 0.9602 - val_loss: 0.1692 - val_accuracy: 0.9467\n",
      "Epoch 22/30\n",
      "92/92 [==============================] - 39s 424ms/step - loss: 0.1106 - accuracy: 0.9650 - val_loss: 0.1703 - val_accuracy: 0.9399\n",
      "Epoch 23/30\n",
      "92/92 [==============================] - 39s 425ms/step - loss: 0.1112 - accuracy: 0.9618 - val_loss: 0.1320 - val_accuracy: 0.9508\n",
      "Epoch 24/30\n",
      "92/92 [==============================] - 39s 421ms/step - loss: 0.1065 - accuracy: 0.9625 - val_loss: 0.1643 - val_accuracy: 0.9495\n",
      "Epoch 25/30\n",
      "92/92 [==============================] - 39s 423ms/step - loss: 0.1131 - accuracy: 0.9662 - val_loss: 0.1286 - val_accuracy: 0.9522\n",
      "Epoch 26/30\n",
      "92/92 [==============================] - 39s 420ms/step - loss: 0.1041 - accuracy: 0.9677 - val_loss: 0.1311 - val_accuracy: 0.9481\n",
      "Epoch 27/30\n",
      "92/92 [==============================] - 39s 424ms/step - loss: 0.1570 - accuracy: 0.9531 - val_loss: 0.2447 - val_accuracy: 0.9331\n",
      "Epoch 28/30\n",
      "92/92 [==============================] - 39s 423ms/step - loss: 0.1356 - accuracy: 0.9531 - val_loss: 0.1287 - val_accuracy: 0.9549\n",
      "Epoch 29/30\n",
      "92/92 [==============================] - 39s 426ms/step - loss: 0.0912 - accuracy: 0.9700 - val_loss: 0.1931 - val_accuracy: 0.9440\n",
      "Epoch 30/30\n",
      "92/92 [==============================] - 39s 424ms/step - loss: 0.0977 - accuracy: 0.9700 - val_loss: 0.1798 - val_accuracy: 0.9399\n"
     ]
    }
   ],
   "source": [
    "# fit the model\n",
    "r = model.fit_generator(\n",
    "  training_set,\n",
    "  validation_data=test_set,\n",
    "  epochs = 30,\n",
    "  steps_per_epoch=len(training_set),\n",
    "  validation_steps=len(test_set)\n",
    ")"
   ]
  },
  {
   "cell_type": "code",
   "execution_count": 15,
   "metadata": {
    "id": "lNA0NvbZt4Nc"
   },
   "outputs": [],
   "source": [
    "from keras.models import load_model\n",
    "model.save('diabetic-ratino-model.h5')"
   ]
  },
  {
   "cell_type": "code",
   "execution_count": 16,
   "metadata": {
    "colab": {
     "base_uri": "https://localhost:8080/",
     "height": 531
    },
    "id": "FeiOtfIEx9mJ",
    "outputId": "8193b068-1f99-4d38-fed3-4dc9042a88e0"
   },
   "outputs": [
    {
     "data": {
      "image/png": "[encoded data removed]",
      "text/plain": [
       "<Figure size 432x288 with 1 Axes>"
      ]
     },
     "metadata": {
      "needs_background": "light",
      "tags": []
     },
     "output_type": "display_data"
    },
    {
     "data": {
      "image/png": "[encoded data removed]",
      "text/plain": [
       "<Figure size 432x288 with 1 Axes>"
      ]
     },
     "metadata": {
      "needs_background": "light",
      "tags": []
     },
     "output_type": "display_data"
    },
    {
     "data": {
      "text/plain": [
       "<Figure size 432x288 with 0 Axes>"
      ]
     },
     "metadata": {
      "tags": []
     },
     "output_type": "display_data"
    }
   ],
   "source": [
    "# loss\n",
    "plt.plot(r.history['loss'], label='train loss')\n",
    "plt.plot(r.history['val_loss'], label='val loss')\n",
    "plt.legend()\n",
    "plt.show()\n",
    "plt.savefig('LossVal_loss')\n",
    "\n",
    "# accuracies\n",
    "plt.plot(r.history['accuracy'], label='train acc')\n",
    "plt.plot(r.history['val_accuracy'], label='val acc')\n",
    "plt.legend()\n",
    "plt.show()\n",
    "plt.savefig('AccVal_acc')"
   ]
  },
  {
   "cell_type": "code",
   "execution_count": null,
   "metadata": {
    "id": "5EIA1KRzN9yL"
   },
   "outputs": [],
   "source": []
  }
 ],
 "metadata": {
  "accelerator": "GPU",
  "colab": {
   "collapsed_sections": [],
   "name": "Diabetic-Ratino.ipynb",
   "provenance": []
  },
  "kernelspec": {
   "display_name": "Python 3",
   "language": "python",
   "name": "python3"
  },
  "language_info": {
   "codemirror_mode": {
    "name": "ipython",
    "version": 3
   },
   "file_extension": ".py",
   "mimetype": "text/x-python",
   "name": "python",
   "nbconvert_exporter": "python",
   "pygments_lexer": "ipython3",
   "version": "3.8.8"
  }
 },
 "nbformat": 4,
 "nbformat_minor": 1
}
