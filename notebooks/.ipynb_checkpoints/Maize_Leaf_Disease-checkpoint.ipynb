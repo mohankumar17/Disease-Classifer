{
 "cells": [
  {
   "cell_type": "code",
   "execution_count": 2,
   "metadata": {
    "colab": {
     "base_uri": "https://localhost:8080/"
    },
    "id": "gsZga8mU80bE",
    "outputId": "a3ca8459-c7f0-4612-c111-9c4292051a68"
   },
   "outputs": [
    {
     "name": "stdout",
     "output_type": "stream",
     "text": [
      "Done\n"
     ]
    }
   ],
   "source": [
    "from zipfile import ZipFile\n",
    "file_name = 'drive/MyDrive/SDP_Datasets/maize-leaf-data.zip'\n",
    "\n",
    "with ZipFile(file_name,'r') as zip:\n",
    "  zip.extractall()\n",
    "  print('Done')"
   ]
  },
  {
   "cell_type": "code",
   "execution_count": 1,
   "metadata": {
    "colab": {
     "base_uri": "https://localhost:8080/"
    },
    "id": "lwI4DSs8WwL2",
    "outputId": "a06c61ec-dcef-4edf-9057-c5d3385f89ee"
   },
   "outputs": [
    {
     "name": "stdout",
     "output_type": "stream",
     "text": [
      "Mounted at /content/drive\n"
     ]
    }
   ],
   "source": [
    "from google.colab import drive\n",
    "drive.mount('/content/drive')"
   ]
  },
  {
   "cell_type": "code",
   "execution_count": null,
   "metadata": {
    "id": "7IU6373dWtk5"
   },
   "outputs": [],
   "source": []
  },
  {
   "cell_type": "code",
   "execution_count": 3,
   "metadata": {
    "id": "LuKsS9GlGTHf"
   },
   "outputs": [],
   "source": [
    "from keras.layers import Input, Lambda, Dense, Flatten\n",
    "from keras.models import Model\n",
    "from keras.applications.vgg16 import VGG16\n",
    "from keras.applications.vgg16 import preprocess_input\n",
    "from keras.preprocessing import image\n",
    "from keras.preprocessing.image import ImageDataGenerator\n",
    "from keras.models import Sequential\n",
    "import numpy as np\n",
    "from glob import glob\n",
    "import matplotlib.pyplot as plt"
   ]
  },
  {
   "cell_type": "code",
   "execution_count": 4,
   "metadata": {
    "id": "Vn5HbYhRHGU5"
   },
   "outputs": [],
   "source": [
    "# re-size all the images to this\n",
    "IMAGE_SIZE = [224, 224]"
   ]
  },
  {
   "cell_type": "code",
   "execution_count": 5,
   "metadata": {
    "id": "Cy6JfY_MHU2g"
   },
   "outputs": [],
   "source": [
    "train_path = 'maize-leaf/train'\n",
    "valid_path = 'maize-leaf/test'"
   ]
  },
  {
   "cell_type": "code",
   "execution_count": 6,
   "metadata": {
    "colab": {
     "base_uri": "https://localhost:8080/"
    },
    "id": "uAeFlbT5HXWX",
    "outputId": "ebb4fac6-d725-4433-c45d-5dd02edc30f9"
   },
   "outputs": [
    {
     "name": "stdout",
     "output_type": "stream",
     "text": [
      "Downloading data from https://storage.googleapis.com/tensorflow/keras-applications/vgg16/vgg16_weights_tf_dim_ordering_tf_kernels_notop.h5\n",
      "58892288/58889256 [==============================] - 0s 0us/step\n"
     ]
    }
   ],
   "source": [
    "# add preprocessing layer to the front of VGG\n",
    "vgg = VGG16(input_shape=IMAGE_SIZE + [3], weights='imagenet', include_top=False)\n",
    "# IMAGE_SIZE + [3] - RGB images\n",
    "# include_top = False removes last layer of VGG16 since VGG16 classifies 1000 category of images"
   ]
  },
  {
   "cell_type": "code",
   "execution_count": 7,
   "metadata": {
    "id": "ZL8UL5fxHecx"
   },
   "outputs": [],
   "source": [
    "# Model is already trained, don't train existing weights again\n",
    "for layer in vgg.layers:\n",
    "    layer.trainable = False"
   ]
  },
  {
   "cell_type": "code",
   "execution_count": 8,
   "metadata": {
    "id": "Ckn50tQjHg_G"
   },
   "outputs": [],
   "source": [
    "# useful for getting number of classes of dataset\n",
    "folders = glob('maize-leaf/train/*')"
   ]
  },
  {
   "cell_type": "code",
   "execution_count": 9,
   "metadata": {
    "id": "c6QdOhS_Hjqx"
   },
   "outputs": [],
   "source": [
    "x = Flatten()(vgg.output)\n",
    "# x = Dense(1000, activation='relu')(x) # our layers - you can add more if you want\n",
    "prediction = Dense(len(folders), activation='softmax')(x)"
   ]
  },
  {
   "cell_type": "code",
   "execution_count": 10,
   "metadata": {
    "id": "kSp5waL0HoMY"
   },
   "outputs": [],
   "source": [
    "# create a model object\n",
    "model = Model(inputs=vgg.input, outputs=prediction)"
   ]
  },
  {
   "cell_type": "code",
   "execution_count": 11,
   "metadata": {
    "colab": {
     "base_uri": "https://localhost:8080/"
    },
    "id": "pQYEqKNiHqfs",
    "outputId": "b013b69d-7dc5-4f9a-fc9d-58aa123853a5"
   },
   "outputs": [
    {
     "name": "stdout",
     "output_type": "stream",
     "text": [
      "Model: \"model\"\n",
      "_________________________________________________________________\n",
      "Layer (type)                 Output Shape              Param #   \n",
      "=================================================================\n",
      "input_1 (InputLayer)         [(None, 224, 224, 3)]     0         \n",
      "_________________________________________________________________\n",
      "block1_conv1 (Conv2D)        (None, 224, 224, 64)      1792      \n",
      "_________________________________________________________________\n",
      "block1_conv2 (Conv2D)        (None, 224, 224, 64)      36928     \n",
      "_________________________________________________________________\n",
      "block1_pool (MaxPooling2D)   (None, 112, 112, 64)      0         \n",
      "_________________________________________________________________\n",
      "block2_conv1 (Conv2D)        (None, 112, 112, 128)     73856     \n",
      "_________________________________________________________________\n",
      "block2_conv2 (Conv2D)        (None, 112, 112, 128)     147584    \n",
      "_________________________________________________________________\n",
      "block2_pool (MaxPooling2D)   (None, 56, 56, 128)       0         \n",
      "_________________________________________________________________\n",
      "block3_conv1 (Conv2D)        (None, 56, 56, 256)       295168    \n",
      "_________________________________________________________________\n",
      "block3_conv2 (Conv2D)        (None, 56, 56, 256)       590080    \n",
      "_________________________________________________________________\n",
      "block3_conv3 (Conv2D)        (None, 56, 56, 256)       590080    \n",
      "_________________________________________________________________\n",
      "block3_pool (MaxPooling2D)   (None, 28, 28, 256)       0         \n",
      "_________________________________________________________________\n",
      "block4_conv1 (Conv2D)        (None, 28, 28, 512)       1180160   \n",
      "_________________________________________________________________\n",
      "block4_conv2 (Conv2D)        (None, 28, 28, 512)       2359808   \n",
      "_________________________________________________________________\n",
      "block4_conv3 (Conv2D)        (None, 28, 28, 512)       2359808   \n",
      "_________________________________________________________________\n",
      "block4_pool (MaxPooling2D)   (None, 14, 14, 512)       0         \n",
      "_________________________________________________________________\n",
      "block5_conv1 (Conv2D)        (None, 14, 14, 512)       2359808   \n",
      "_________________________________________________________________\n",
      "block5_conv2 (Conv2D)        (None, 14, 14, 512)       2359808   \n",
      "_________________________________________________________________\n",
      "block5_conv3 (Conv2D)        (None, 14, 14, 512)       2359808   \n",
      "_________________________________________________________________\n",
      "block5_pool (MaxPooling2D)   (None, 7, 7, 512)         0         \n",
      "_________________________________________________________________\n",
      "flatten (Flatten)            (None, 25088)             0         \n",
      "_________________________________________________________________\n",
      "dense (Dense)                (None, 4)                 100356    \n",
      "=================================================================\n",
      "Total params: 14,815,044\n",
      "Trainable params: 100,356\n",
      "Non-trainable params: 14,714,688\n",
      "_________________________________________________________________\n"
     ]
    }
   ],
   "source": [
    "# view the structure of the model\n",
    "model.summary()"
   ]
  },
  {
   "cell_type": "code",
   "execution_count": 12,
   "metadata": {
    "id": "Nq8VgxeSHspK"
   },
   "outputs": [],
   "source": [
    "model.compile(\n",
    "  loss='categorical_crossentropy',\n",
    "  optimizer='adam',\n",
    "  metrics=['accuracy']\n",
    ")"
   ]
  },
  {
   "cell_type": "code",
   "execution_count": 13,
   "metadata": {
    "colab": {
     "base_uri": "https://localhost:8080/"
    },
    "id": "6-M3rjmmHv0V",
    "outputId": "43825614-6cfc-476c-de36-6b17e90f804e"
   },
   "outputs": [
    {
     "name": "stdout",
     "output_type": "stream",
     "text": [
      "Found 3768 images belonging to 4 classes.\n",
      "Found 414 images belonging to 4 classes.\n"
     ]
    }
   ],
   "source": [
    "from keras.preprocessing.image import ImageDataGenerator\n",
    "\n",
    "train_datagen = ImageDataGenerator(rescale = 1./255,\n",
    "                                   shear_range = 0.2,\n",
    "                                   zoom_range = 0.2,\n",
    "                                   horizontal_flip = True)\n",
    "\n",
    "test_datagen = ImageDataGenerator(rescale = 1./255)\n",
    "\n",
    "training_set = train_datagen.flow_from_directory('maize-leaf/train',\n",
    "                                                 target_size = (224, 224),\n",
    "                                                 batch_size = 32,\n",
    "                                                 class_mode = 'categorical')\n",
    "\n",
    "test_set = test_datagen.flow_from_directory('maize-leaf/test',\n",
    "                                            target_size = (224, 224),\n",
    "                                            batch_size = 32,\n",
    "                                            class_mode = 'categorical')"
   ]
  },
  {
   "cell_type": "code",
   "execution_count": 14,
   "metadata": {
    "colab": {
     "base_uri": "https://localhost:8080/"
    },
    "id": "DwBoRpWQH4SB",
    "outputId": "cd8c455b-d467-4893-c0f8-21cf19f54c6e"
   },
   "outputs": [
    {
     "name": "stderr",
     "output_type": "stream",
     "text": [
      "/usr/local/lib/python3.6/dist-packages/tensorflow/python/keras/engine/training.py:1844: UserWarning: `Model.fit_generator` is deprecated and will be removed in a future version. Please use `Model.fit`, which supports generators.\n",
      "  warnings.warn('`Model.fit_generator` is deprecated and '\n"
     ]
    },
    {
     "name": "stdout",
     "output_type": "stream",
     "text": [
      "Epoch 1/30\n",
      "118/118 [==============================] - 54s 391ms/step - loss: 0.7319 - accuracy: 0.7285 - val_loss: 0.3905 - val_accuracy: 0.8671\n",
      "Epoch 2/30\n",
      "118/118 [==============================] - 44s 370ms/step - loss: 0.2777 - accuracy: 0.9001 - val_loss: 0.2387 - val_accuracy: 0.9130\n",
      "Epoch 3/30\n",
      "118/118 [==============================] - 44s 370ms/step - loss: 0.2180 - accuracy: 0.9189 - val_loss: 0.3228 - val_accuracy: 0.8720\n",
      "Epoch 4/30\n",
      "118/118 [==============================] - 44s 371ms/step - loss: 0.2025 - accuracy: 0.9311 - val_loss: 0.2412 - val_accuracy: 0.9203\n",
      "Epoch 5/30\n",
      "118/118 [==============================] - 44s 372ms/step - loss: 0.1783 - accuracy: 0.9330 - val_loss: 0.2432 - val_accuracy: 0.9130\n",
      "Epoch 6/30\n",
      "118/118 [==============================] - 44s 370ms/step - loss: 0.1243 - accuracy: 0.9558 - val_loss: 0.2389 - val_accuracy: 0.9251\n",
      "Epoch 7/30\n",
      "118/118 [==============================] - 44s 374ms/step - loss: 0.1233 - accuracy: 0.9573 - val_loss: 0.7484 - val_accuracy: 0.8188\n",
      "Epoch 8/30\n",
      "118/118 [==============================] - 44s 373ms/step - loss: 0.1575 - accuracy: 0.9488 - val_loss: 0.2568 - val_accuracy: 0.9130\n",
      "Epoch 9/30\n",
      "118/118 [==============================] - 44s 372ms/step - loss: 0.1012 - accuracy: 0.9625 - val_loss: 0.1997 - val_accuracy: 0.9372\n",
      "Epoch 10/30\n",
      "118/118 [==============================] - 44s 371ms/step - loss: 0.0948 - accuracy: 0.9657 - val_loss: 0.2277 - val_accuracy: 0.9203\n",
      "Epoch 11/30\n",
      "118/118 [==============================] - 44s 371ms/step - loss: 0.0974 - accuracy: 0.9698 - val_loss: 0.2612 - val_accuracy: 0.9300\n",
      "Epoch 12/30\n",
      "118/118 [==============================] - 44s 369ms/step - loss: 0.1293 - accuracy: 0.9563 - val_loss: 0.2279 - val_accuracy: 0.9372\n",
      "Epoch 13/30\n",
      "118/118 [==============================] - 44s 371ms/step - loss: 0.0860 - accuracy: 0.9624 - val_loss: 0.2672 - val_accuracy: 0.9251\n",
      "Epoch 14/30\n",
      "118/118 [==============================] - 44s 372ms/step - loss: 0.1122 - accuracy: 0.9555 - val_loss: 0.2110 - val_accuracy: 0.9348\n",
      "Epoch 15/30\n",
      "118/118 [==============================] - 44s 372ms/step - loss: 0.0993 - accuracy: 0.9624 - val_loss: 0.2257 - val_accuracy: 0.9396\n",
      "Epoch 16/30\n",
      "118/118 [==============================] - 44s 372ms/step - loss: 0.0832 - accuracy: 0.9676 - val_loss: 0.2283 - val_accuracy: 0.9324\n",
      "Epoch 17/30\n",
      "118/118 [==============================] - 44s 372ms/step - loss: 0.0646 - accuracy: 0.9790 - val_loss: 0.2076 - val_accuracy: 0.9420\n",
      "Epoch 18/30\n",
      "118/118 [==============================] - 44s 371ms/step - loss: 0.0611 - accuracy: 0.9790 - val_loss: 0.2258 - val_accuracy: 0.9372\n",
      "Epoch 19/30\n",
      "118/118 [==============================] - 44s 371ms/step - loss: 0.0433 - accuracy: 0.9842 - val_loss: 0.2420 - val_accuracy: 0.9251\n",
      "Epoch 20/30\n",
      "118/118 [==============================] - 44s 371ms/step - loss: 0.0503 - accuracy: 0.9834 - val_loss: 0.1980 - val_accuracy: 0.9348\n",
      "Epoch 21/30\n",
      "118/118 [==============================] - 44s 369ms/step - loss: 0.0662 - accuracy: 0.9716 - val_loss: 0.2144 - val_accuracy: 0.9251\n",
      "Epoch 22/30\n",
      "118/118 [==============================] - 44s 372ms/step - loss: 0.0509 - accuracy: 0.9808 - val_loss: 0.1913 - val_accuracy: 0.9348\n",
      "Epoch 23/30\n",
      "118/118 [==============================] - 44s 369ms/step - loss: 0.0423 - accuracy: 0.9889 - val_loss: 0.3530 - val_accuracy: 0.9106\n",
      "Epoch 24/30\n",
      "118/118 [==============================] - 44s 372ms/step - loss: 0.0406 - accuracy: 0.9864 - val_loss: 0.2638 - val_accuracy: 0.9275\n",
      "Epoch 25/30\n",
      "118/118 [==============================] - 44s 370ms/step - loss: 0.0369 - accuracy: 0.9874 - val_loss: 0.2759 - val_accuracy: 0.9300\n",
      "Epoch 26/30\n",
      "118/118 [==============================] - 44s 371ms/step - loss: 0.0504 - accuracy: 0.9834 - val_loss: 0.2829 - val_accuracy: 0.9251\n",
      "Epoch 27/30\n",
      "118/118 [==============================] - 44s 371ms/step - loss: 0.0452 - accuracy: 0.9827 - val_loss: 0.2618 - val_accuracy: 0.9324\n",
      "Epoch 28/30\n",
      "118/118 [==============================] - 44s 369ms/step - loss: 0.0502 - accuracy: 0.9831 - val_loss: 0.4457 - val_accuracy: 0.9034\n",
      "Epoch 29/30\n",
      "118/118 [==============================] - 44s 373ms/step - loss: 0.0546 - accuracy: 0.9819 - val_loss: 0.3184 - val_accuracy: 0.9203\n",
      "Epoch 30/30\n",
      "118/118 [==============================] - 44s 370ms/step - loss: 0.0312 - accuracy: 0.9912 - val_loss: 0.2982 - val_accuracy: 0.9372\n"
     ]
    }
   ],
   "source": [
    "# fit the model\n",
    "r = model.fit_generator(\n",
    "  training_set,\n",
    "  validation_data=test_set,\n",
    "  epochs = 30,\n",
    "  steps_per_epoch=len(training_set),\n",
    "  validation_steps=len(test_set)\n",
    ")"
   ]
  },
  {
   "cell_type": "code",
   "execution_count": 16,
   "metadata": {
    "colab": {
     "base_uri": "https://localhost:8080/",
     "height": 531
    },
    "id": "faCSZXe2H7z6",
    "outputId": "0b9a671b-4335-49cb-b385-eba5eb744bfb"
   },
   "outputs": [
    {
     "data": {
      "image/png": "[encoded data removed]",
      "text/plain": [
       "<Figure size 432x288 with 1 Axes>"
      ]
     },
     "metadata": {
      "needs_background": "light",
      "tags": []
     },
     "output_type": "display_data"
    },
    {
     "data": {
      "image/png": "[encoded data removed]",
      "text/plain": [
       "<Figure size 432x288 with 1 Axes>"
      ]
     },
     "metadata": {
      "needs_background": "light",
      "tags": []
     },
     "output_type": "display_data"
    },
    {
     "data": {
      "text/plain": [
       "<Figure size 432x288 with 0 Axes>"
      ]
     },
     "metadata": {
      "tags": []
     },
     "output_type": "display_data"
    }
   ],
   "source": [
    "# loss\n",
    "plt.plot(r.history['loss'], label='train loss')\n",
    "plt.plot(r.history['val_loss'], label='val loss')\n",
    "plt.legend()\n",
    "plt.show()\n",
    "plt.savefig('LossVal_loss')\n",
    "\n",
    "# accuracies\n",
    "plt.plot(r.history['accuracy'], label='train acc')\n",
    "plt.plot(r.history['val_accuracy'], label='val acc')\n",
    "plt.legend()\n",
    "plt.show()\n",
    "plt.savefig('AccVal_acc')"
   ]
  },
  {
   "cell_type": "code",
   "execution_count": 15,
   "metadata": {
    "id": "yiFgYEatMtwK"
   },
   "outputs": [],
   "source": [
    "from keras.models import load_model\n",
    "model.save('maize-leaf-model.h5')"
   ]
  },
  {
   "cell_type": "code",
   "execution_count": null,
   "metadata": {
    "id": "1CjUh4n9MzhB"
   },
   "outputs": [],
   "source": []
  }
 ],
 "metadata": {
  "accelerator": "GPU",
  "colab": {
   "collapsed_sections": [],
   "name": "Maize_Leaf_Disease.ipynb",
   "provenance": []
  },
  "kernelspec": {
   "display_name": "Python 3",
   "language": "python",
   "name": "python3"
  },
  "language_info": {
   "codemirror_mode": {
    "name": "ipython",
    "version": 3
   },
   "file_extension": ".py",
   "mimetype": "text/x-python",
   "name": "python",
   "nbconvert_exporter": "python",
   "pygments_lexer": "ipython3",
   "version": "3.6.12"
  }
 },
 "nbformat": 4,
 "nbformat_minor": 1
}
