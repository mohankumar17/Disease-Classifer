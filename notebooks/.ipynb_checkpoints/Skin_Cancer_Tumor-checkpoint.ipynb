{
 "cells": [
  {
   "cell_type": "code",
   "execution_count": 1,
   "metadata": {
    "id": "gsZga8mU80bE"
   },
   "outputs": [],
   "source": []
  },
  {
   "cell_type": "code",
   "execution_count": 1,
   "metadata": {
    "colab": {
     "base_uri": "https://localhost:8080/"
    },
    "id": "lwI4DSs8WwL2",
    "outputId": "26b8ce20-cd31-44ee-c01b-73b5dda967d0"
   },
   "outputs": [
    {
     "name": "stdout",
     "output_type": "stream",
     "text": [
      "Mounted at /content/drive\n"
     ]
    }
   ],
   "source": [
    "from google.colab import drive\n",
    "drive.mount('/content/drive')"
   ]
  },
  {
   "cell_type": "code",
   "execution_count": 2,
   "metadata": {
    "colab": {
     "base_uri": "https://localhost:8080/"
    },
    "id": "7IU6373dWtk5",
    "outputId": "9d57b15e-e980-4418-fbb8-4d6557c97fc1"
   },
   "outputs": [
    {
     "name": "stdout",
     "output_type": "stream",
     "text": [
      "Done\n"
     ]
    }
   ],
   "source": [
    "from zipfile import ZipFile\n",
    "file_name = 'drive/MyDrive/SDP_Datasets/skin-cancer-tumor.zip'\n",
    "\n",
    "with ZipFile(file_name,'r') as zip:\n",
    "  zip.extractall()\n",
    "  print('Done')"
   ]
  },
  {
   "cell_type": "code",
   "execution_count": 3,
   "metadata": {
    "id": "LuKsS9GlGTHf"
   },
   "outputs": [],
   "source": [
    "from keras.layers import Input, Lambda, Dense, Flatten\n",
    "from keras.models import Model\n",
    "from keras.applications.vgg16 import VGG16\n",
    "from keras.applications.vgg16 import preprocess_input\n",
    "from keras.preprocessing import image\n",
    "from keras.preprocessing.image import ImageDataGenerator\n",
    "from keras.models import Sequential\n",
    "import numpy as np\n",
    "from glob import glob\n",
    "import matplotlib.pyplot as plt"
   ]
  },
  {
   "cell_type": "code",
   "execution_count": 4,
   "metadata": {
    "id": "Vn5HbYhRHGU5"
   },
   "outputs": [],
   "source": [
    "# re-size all the images to this\n",
    "IMAGE_SIZE = [224, 224]"
   ]
  },
  {
   "cell_type": "code",
   "execution_count": 5,
   "metadata": {
    "id": "Cy6JfY_MHU2g"
   },
   "outputs": [],
   "source": [
    "train_path = 'skin-cancer-tumor/train'\n",
    "valid_path = 'skin-cancer-tumor/test'"
   ]
  },
  {
   "cell_type": "code",
   "execution_count": 6,
   "metadata": {
    "colab": {
     "base_uri": "https://localhost:8080/"
    },
    "id": "uAeFlbT5HXWX",
    "outputId": "330ece08-72d5-4038-b945-93214cbf1a0f"
   },
   "outputs": [
    {
     "name": "stdout",
     "output_type": "stream",
     "text": [
      "Downloading data from https://storage.googleapis.com/tensorflow/keras-applications/vgg16/vgg16_weights_tf_dim_ordering_tf_kernels_notop.h5\n",
      "58892288/58889256 [==============================] - 0s 0us/step\n"
     ]
    }
   ],
   "source": [
    "# add preprocessing layer to the front of VGG\n",
    "vgg = VGG16(input_shape=IMAGE_SIZE + [3], weights='imagenet', include_top=False)\n",
    "# IMAGE_SIZE + [3] - RGB images\n",
    "# include_top = False removes last layer of VGG16 since VGG16 classifies 1000 category of images"
   ]
  },
  {
   "cell_type": "code",
   "execution_count": 7,
   "metadata": {
    "id": "ZL8UL5fxHecx"
   },
   "outputs": [],
   "source": [
    "# Model is already trained, don't train existing weights again\n",
    "for layer in vgg.layers:\n",
    "    layer.trainable = False"
   ]
  },
  {
   "cell_type": "code",
   "execution_count": 8,
   "metadata": {
    "id": "Ckn50tQjHg_G"
   },
   "outputs": [],
   "source": [
    "# useful for getting number of classes of dataset\n",
    "folders = glob('skin-cancer-tumor/train/*')"
   ]
  },
  {
   "cell_type": "code",
   "execution_count": 9,
   "metadata": {
    "id": "c6QdOhS_Hjqx"
   },
   "outputs": [],
   "source": [
    "x = Flatten()(vgg.output)\n",
    "# x = Dense(1000, activation='relu')(x) # our layers - you can add more if you want\n",
    "prediction = Dense(len(folders), activation='softmax')(x)"
   ]
  },
  {
   "cell_type": "code",
   "execution_count": 10,
   "metadata": {
    "id": "kSp5waL0HoMY"
   },
   "outputs": [],
   "source": [
    "# create a model object\n",
    "model = Model(inputs=vgg.input, outputs=prediction)"
   ]
  },
  {
   "cell_type": "code",
   "execution_count": 11,
   "metadata": {
    "colab": {
     "base_uri": "https://localhost:8080/"
    },
    "id": "pQYEqKNiHqfs",
    "outputId": "10588847-ad0c-4c76-a507-fc10c24c2fd5"
   },
   "outputs": [
    {
     "name": "stdout",
     "output_type": "stream",
     "text": [
      "Model: \"model\"\n",
      "_________________________________________________________________\n",
      "Layer (type)                 Output Shape              Param #   \n",
      "=================================================================\n",
      "input_1 (InputLayer)         [(None, 224, 224, 3)]     0         \n",
      "_________________________________________________________________\n",
      "block1_conv1 (Conv2D)        (None, 224, 224, 64)      1792      \n",
      "_________________________________________________________________\n",
      "block1_conv2 (Conv2D)        (None, 224, 224, 64)      36928     \n",
      "_________________________________________________________________\n",
      "block1_pool (MaxPooling2D)   (None, 112, 112, 64)      0         \n",
      "_________________________________________________________________\n",
      "block2_conv1 (Conv2D)        (None, 112, 112, 128)     73856     \n",
      "_________________________________________________________________\n",
      "block2_conv2 (Conv2D)        (None, 112, 112, 128)     147584    \n",
      "_________________________________________________________________\n",
      "block2_pool (MaxPooling2D)   (None, 56, 56, 128)       0         \n",
      "_________________________________________________________________\n",
      "block3_conv1 (Conv2D)        (None, 56, 56, 256)       295168    \n",
      "_________________________________________________________________\n",
      "block3_conv2 (Conv2D)        (None, 56, 56, 256)       590080    \n",
      "_________________________________________________________________\n",
      "block3_conv3 (Conv2D)        (None, 56, 56, 256)       590080    \n",
      "_________________________________________________________________\n",
      "block3_pool (MaxPooling2D)   (None, 28, 28, 256)       0         \n",
      "_________________________________________________________________\n",
      "block4_conv1 (Conv2D)        (None, 28, 28, 512)       1180160   \n",
      "_________________________________________________________________\n",
      "block4_conv2 (Conv2D)        (None, 28, 28, 512)       2359808   \n",
      "_________________________________________________________________\n",
      "block4_conv3 (Conv2D)        (None, 28, 28, 512)       2359808   \n",
      "_________________________________________________________________\n",
      "block4_pool (MaxPooling2D)   (None, 14, 14, 512)       0         \n",
      "_________________________________________________________________\n",
      "block5_conv1 (Conv2D)        (None, 14, 14, 512)       2359808   \n",
      "_________________________________________________________________\n",
      "block5_conv2 (Conv2D)        (None, 14, 14, 512)       2359808   \n",
      "_________________________________________________________________\n",
      "block5_conv3 (Conv2D)        (None, 14, 14, 512)       2359808   \n",
      "_________________________________________________________________\n",
      "block5_pool (MaxPooling2D)   (None, 7, 7, 512)         0         \n",
      "_________________________________________________________________\n",
      "flatten (Flatten)            (None, 25088)             0         \n",
      "_________________________________________________________________\n",
      "dense (Dense)                (None, 2)                 50178     \n",
      "=================================================================\n",
      "Total params: 14,764,866\n",
      "Trainable params: 50,178\n",
      "Non-trainable params: 14,714,688\n",
      "_________________________________________________________________\n"
     ]
    }
   ],
   "source": [
    "# view the structure of the model\n",
    "model.summary()"
   ]
  },
  {
   "cell_type": "code",
   "execution_count": 12,
   "metadata": {
    "id": "Nq8VgxeSHspK"
   },
   "outputs": [],
   "source": [
    "model.compile(\n",
    "  loss='categorical_crossentropy',\n",
    "  optimizer='adam',\n",
    "  metrics=['accuracy']\n",
    ")"
   ]
  },
  {
   "cell_type": "code",
   "execution_count": 13,
   "metadata": {
    "colab": {
     "base_uri": "https://localhost:8080/"
    },
    "id": "6-M3rjmmHv0V",
    "outputId": "fa084c0a-7109-4233-c25a-95b7b06dd766"
   },
   "outputs": [
    {
     "name": "stdout",
     "output_type": "stream",
     "text": [
      "Found 1858 images belonging to 2 classes.\n",
      "Found 400 images belonging to 2 classes.\n"
     ]
    }
   ],
   "source": [
    "from keras.preprocessing.image import ImageDataGenerator\n",
    "\n",
    "train_datagen = ImageDataGenerator(rescale = 1./255,\n",
    "                                   shear_range = 0.2,\n",
    "                                   zoom_range = 0.2,\n",
    "                                   horizontal_flip = True)\n",
    "\n",
    "test_datagen = ImageDataGenerator(rescale = 1./255)\n",
    "\n",
    "training_set = train_datagen.flow_from_directory('skin-cancer-tumor/train',\n",
    "                                                 target_size = (224, 224),\n",
    "                                                 batch_size = 32,\n",
    "                                                 class_mode = 'categorical')\n",
    "\n",
    "test_set = test_datagen.flow_from_directory('skin-cancer-tumor/test',\n",
    "                                            target_size = (224, 224),\n",
    "                                            batch_size = 32,\n",
    "                                            class_mode = 'categorical')"
   ]
  },
  {
   "cell_type": "code",
   "execution_count": 14,
   "metadata": {
    "colab": {
     "base_uri": "https://localhost:8080/"
    },
    "id": "DwBoRpWQH4SB",
    "outputId": "d0b28d2f-48b8-4cd3-a18f-108cd8a609cb"
   },
   "outputs": [
    {
     "name": "stderr",
     "output_type": "stream",
     "text": [
      "/usr/local/lib/python3.6/dist-packages/tensorflow/python/keras/engine/training.py:1844: UserWarning: `Model.fit_generator` is deprecated and will be removed in a future version. Please use `Model.fit`, which supports generators.\n",
      "  warnings.warn('`Model.fit_generator` is deprecated and '\n"
     ]
    },
    {
     "name": "stdout",
     "output_type": "stream",
     "text": [
      "Epoch 1/30\n",
      "59/59 [==============================] - 31s 392ms/step - loss: 1.0013 - accuracy: 0.5682 - val_loss: 0.7452 - val_accuracy: 0.6200\n",
      "Epoch 2/30\n",
      "59/59 [==============================] - 22s 375ms/step - loss: 0.5046 - accuracy: 0.7522 - val_loss: 0.5684 - val_accuracy: 0.7100\n",
      "Epoch 3/30\n",
      "59/59 [==============================] - 22s 376ms/step - loss: 0.4597 - accuracy: 0.7854 - val_loss: 1.0324 - val_accuracy: 0.5900\n",
      "Epoch 4/30\n",
      "59/59 [==============================] - 22s 379ms/step - loss: 0.5707 - accuracy: 0.7360 - val_loss: 0.6166 - val_accuracy: 0.6750\n",
      "Epoch 5/30\n",
      "59/59 [==============================] - 22s 380ms/step - loss: 0.4211 - accuracy: 0.8217 - val_loss: 0.7408 - val_accuracy: 0.6425\n",
      "Epoch 6/30\n",
      "59/59 [==============================] - 22s 379ms/step - loss: 0.4176 - accuracy: 0.8074 - val_loss: 0.7727 - val_accuracy: 0.6475\n",
      "Epoch 7/30\n",
      "59/59 [==============================] - 22s 381ms/step - loss: 0.3915 - accuracy: 0.8307 - val_loss: 0.6822 - val_accuracy: 0.6750\n",
      "Epoch 8/30\n",
      "59/59 [==============================] - 23s 381ms/step - loss: 0.3710 - accuracy: 0.8529 - val_loss: 0.6443 - val_accuracy: 0.6975\n",
      "Epoch 9/30\n",
      "59/59 [==============================] - 23s 383ms/step - loss: 0.3865 - accuracy: 0.8312 - val_loss: 0.6282 - val_accuracy: 0.7000\n",
      "Epoch 10/30\n",
      "59/59 [==============================] - 23s 382ms/step - loss: 0.3501 - accuracy: 0.8622 - val_loss: 0.5947 - val_accuracy: 0.7200\n",
      "Epoch 11/30\n",
      "59/59 [==============================] - 23s 381ms/step - loss: 0.3974 - accuracy: 0.8174 - val_loss: 0.7750 - val_accuracy: 0.6700\n",
      "Epoch 12/30\n",
      "59/59 [==============================] - 23s 383ms/step - loss: 0.3522 - accuracy: 0.8480 - val_loss: 0.6069 - val_accuracy: 0.7400\n",
      "Epoch 13/30\n",
      "59/59 [==============================] - 23s 382ms/step - loss: 0.3641 - accuracy: 0.8408 - val_loss: 0.6252 - val_accuracy: 0.7175\n",
      "Epoch 14/30\n",
      "59/59 [==============================] - 22s 381ms/step - loss: 0.3247 - accuracy: 0.8644 - val_loss: 0.6150 - val_accuracy: 0.7200\n",
      "Epoch 15/30\n",
      "59/59 [==============================] - 23s 383ms/step - loss: 0.3218 - accuracy: 0.8630 - val_loss: 0.5974 - val_accuracy: 0.6850\n",
      "Epoch 16/30\n",
      "59/59 [==============================] - 23s 384ms/step - loss: 0.3544 - accuracy: 0.8515 - val_loss: 0.6763 - val_accuracy: 0.6950\n",
      "Epoch 17/30\n",
      "59/59 [==============================] - 23s 383ms/step - loss: 0.3366 - accuracy: 0.8575 - val_loss: 0.8546 - val_accuracy: 0.6750\n",
      "Epoch 18/30\n",
      "59/59 [==============================] - 23s 383ms/step - loss: 0.3194 - accuracy: 0.8678 - val_loss: 0.6644 - val_accuracy: 0.7225\n",
      "Epoch 19/30\n",
      "59/59 [==============================] - 23s 386ms/step - loss: 0.2921 - accuracy: 0.8855 - val_loss: 0.6421 - val_accuracy: 0.7175\n",
      "Epoch 20/30\n",
      "59/59 [==============================] - 23s 386ms/step - loss: 0.3492 - accuracy: 0.8571 - val_loss: 0.6452 - val_accuracy: 0.7175\n",
      "Epoch 21/30\n",
      "59/59 [==============================] - 23s 383ms/step - loss: 0.3175 - accuracy: 0.8643 - val_loss: 0.6831 - val_accuracy: 0.7275\n",
      "Epoch 22/30\n",
      "59/59 [==============================] - 23s 385ms/step - loss: 0.2937 - accuracy: 0.8840 - val_loss: 0.6464 - val_accuracy: 0.7200\n",
      "Epoch 23/30\n",
      "59/59 [==============================] - 23s 384ms/step - loss: 0.3331 - accuracy: 0.8605 - val_loss: 1.0820 - val_accuracy: 0.6275\n",
      "Epoch 24/30\n",
      "59/59 [==============================] - 23s 382ms/step - loss: 0.3234 - accuracy: 0.8540 - val_loss: 0.6440 - val_accuracy: 0.7375\n",
      "Epoch 25/30\n",
      "59/59 [==============================] - 23s 381ms/step - loss: 0.2719 - accuracy: 0.8868 - val_loss: 1.2063 - val_accuracy: 0.6025\n",
      "Epoch 26/30\n",
      "59/59 [==============================] - 23s 382ms/step - loss: 0.2911 - accuracy: 0.8840 - val_loss: 0.9626 - val_accuracy: 0.6475\n",
      "Epoch 27/30\n",
      "59/59 [==============================] - 23s 384ms/step - loss: 0.2498 - accuracy: 0.8995 - val_loss: 0.7809 - val_accuracy: 0.6925\n",
      "Epoch 28/30\n",
      "59/59 [==============================] - 23s 385ms/step - loss: 0.2726 - accuracy: 0.8846 - val_loss: 0.6476 - val_accuracy: 0.7350\n",
      "Epoch 29/30\n",
      "59/59 [==============================] - 23s 385ms/step - loss: 0.2580 - accuracy: 0.9010 - val_loss: 0.5982 - val_accuracy: 0.7200\n",
      "Epoch 30/30\n",
      "59/59 [==============================] - 23s 384ms/step - loss: 0.2713 - accuracy: 0.8737 - val_loss: 0.6102 - val_accuracy: 0.7100\n"
     ]
    }
   ],
   "source": [
    "# fit the model\n",
    "r = model.fit_generator(\n",
    "  training_set,\n",
    "  validation_data=test_set,\n",
    "  epochs = 30,\n",
    "  steps_per_epoch=len(training_set),\n",
    "  validation_steps=len(test_set)\n",
    ")"
   ]
  },
  {
   "cell_type": "code",
   "execution_count": 15,
   "metadata": {
    "colab": {
     "base_uri": "https://localhost:8080/",
     "height": 531
    },
    "id": "faCSZXe2H7z6",
    "outputId": "7e5a11ad-d2da-42c5-8c47-d03d41ba467b"
   },
   "outputs": [
    {
     "data": {
      "image/png": "[encoded data removed]",
      "text/plain": [
       "<Figure size 432x288 with 1 Axes>"
      ]
     },
     "metadata": {
      "needs_background": "light",
      "tags": []
     },
     "output_type": "display_data"
    },
    {
     "data": {
      "image/png": "[encoded data removed]",
      "text/plain": [
       "<Figure size 432x288 with 1 Axes>"
      ]
     },
     "metadata": {
      "needs_background": "light",
      "tags": []
     },
     "output_type": "display_data"
    },
    {
     "data": {
      "text/plain": [
       "<Figure size 432x288 with 0 Axes>"
      ]
     },
     "metadata": {
      "tags": []
     },
     "output_type": "display_data"
    }
   ],
   "source": [
    "# loss\n",
    "plt.plot(r.history['loss'], label='train loss')\n",
    "plt.plot(r.history['val_loss'], label='val loss')\n",
    "plt.legend()\n",
    "plt.show()\n",
    "plt.savefig('LossVal_loss')\n",
    "\n",
    "# accuracies\n",
    "plt.plot(r.history['accuracy'], label='train acc')\n",
    "plt.plot(r.history['val_accuracy'], label='val acc')\n",
    "plt.legend()\n",
    "plt.show()\n",
    "plt.savefig('AccVal_acc')"
   ]
  },
  {
   "cell_type": "code",
   "execution_count": 16,
   "metadata": {
    "id": "yiFgYEatMtwK"
   },
   "outputs": [],
   "source": [
    "from keras.models import load_model\n",
    "model.save('skin-cancer-tumor-model.h5')"
   ]
  },
  {
   "cell_type": "code",
   "execution_count": null,
   "metadata": {
    "id": "1CjUh4n9MzhB"
   },
   "outputs": [],
   "source": []
  }
 ],
 "metadata": {
  "accelerator": "GPU",
  "colab": {
   "collapsed_sections": [],
   "name": "Skin_Cancer_Tumor.ipynb",
   "provenance": []
  },
  "kernelspec": {
   "display_name": "Python 3",
   "language": "python",
   "name": "python3"
  },
  "language_info": {
   "codemirror_mode": {
    "name": "ipython",
    "version": 3
   },
   "file_extension": ".py",
   "mimetype": "text/x-python",
   "name": "python",
   "nbconvert_exporter": "python",
   "pygments_lexer": "ipython3",
   "version": "3.6.12"
  }
 },
 "nbformat": 4,
 "nbformat_minor": 1
}
