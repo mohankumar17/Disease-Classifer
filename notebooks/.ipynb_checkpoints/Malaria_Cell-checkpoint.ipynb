{
 "cells": [
  {
   "cell_type": "code",
   "execution_count": null,
   "metadata": {
    "id": "sqswotPr41hX"
   },
   "outputs": [],
   "source": []
  },
  {
   "cell_type": "code",
   "execution_count": 1,
   "metadata": {
    "colab": {
     "base_uri": "https://localhost:8080/"
    },
    "id": "gsZga8mU80bE",
    "outputId": "13686ce9-f986-4797-a563-dca2cb8a89b7"
   },
   "outputs": [
    {
     "name": "stdout",
     "output_type": "stream",
     "text": [
      "Done\n"
     ]
    }
   ],
   "source": [
    "from zipfile import ZipFile\n",
    "file_name = 'drive/MyDrive/SDP_Datasets/malaria-cell.zip'\n",
    "\n",
    "with ZipFile(file_name,'r') as zip:\n",
    "  zip.extractall()\n",
    "  print('Done')"
   ]
  },
  {
   "cell_type": "code",
   "execution_count": null,
   "metadata": {
    "colab": {
     "base_uri": "https://localhost:8080/"
    },
    "id": "a3Rfo1NUCdo7",
    "outputId": "70d877bb-ce23-46d3-e5c6-35c45efbd1aa"
   },
   "outputs": [
    {
     "name": "stdout",
     "output_type": "stream",
     "text": [
      "Shrink images in the folder\n"
     ]
    }
   ],
   "source": []
  },
  {
   "cell_type": "code",
   "execution_count": 2,
   "metadata": {
    "id": "LuKsS9GlGTHf"
   },
   "outputs": [],
   "source": [
    "from keras.layers import Input, Lambda, Dense, Flatten\n",
    "from keras.models import Model\n",
    "from keras.applications.vgg19 import VGG19\n",
    "from keras.applications.vgg19 import preprocess_input\n",
    "from keras.preprocessing import image\n",
    "from keras.preprocessing.image import ImageDataGenerator\n",
    "from keras.models import Sequential\n",
    "import numpy as np\n",
    "from glob import glob\n",
    "import matplotlib.pyplot as plt"
   ]
  },
  {
   "cell_type": "code",
   "execution_count": 3,
   "metadata": {
    "id": "Vn5HbYhRHGU5"
   },
   "outputs": [],
   "source": [
    "# re-size all the images to this\n",
    "IMAGE_SIZE = [224, 224]"
   ]
  },
  {
   "cell_type": "code",
   "execution_count": 4,
   "metadata": {
    "id": "Cy6JfY_MHU2g"
   },
   "outputs": [],
   "source": [
    "train_path = 'Dataset/Train'\n",
    "valid_path = 'Dataset/Test'"
   ]
  },
  {
   "cell_type": "code",
   "execution_count": 5,
   "metadata": {
    "colab": {
     "base_uri": "https://localhost:8080/"
    },
    "id": "uAeFlbT5HXWX",
    "outputId": "a11d5ea6-a0f7-44d9-a9ca-4b9d0b1fa136"
   },
   "outputs": [
    {
     "name": "stdout",
     "output_type": "stream",
     "text": [
      "Downloading data from https://storage.googleapis.com/tensorflow/keras-applications/vgg19/vgg19_weights_tf_dim_ordering_tf_kernels_notop.h5\n",
      "80142336/80134624 [==============================] - 1s 0us/step\n"
     ]
    }
   ],
   "source": [
    "# add preprocessing layer to the front of VGG\n",
    "vgg = VGG19(input_shape=IMAGE_SIZE + [3], weights='imagenet', include_top=False)\n",
    "# IMAGE_SIZE + [3] - RGB images\n",
    "# include_top = False removes last layer of VGG16 since VGG16 classifies 1000 category of images"
   ]
  },
  {
   "cell_type": "code",
   "execution_count": 6,
   "metadata": {
    "id": "ZL8UL5fxHecx"
   },
   "outputs": [],
   "source": [
    "# Model is already trained, don't train existing weights again\n",
    "for layer in vgg.layers:\n",
    "    layer.trainable = False"
   ]
  },
  {
   "cell_type": "code",
   "execution_count": 7,
   "metadata": {
    "id": "Ckn50tQjHg_G"
   },
   "outputs": [],
   "source": [
    "# useful for getting number of classes of dataset\n",
    "folders = glob('Dataset/Train/*')"
   ]
  },
  {
   "cell_type": "code",
   "execution_count": 8,
   "metadata": {
    "id": "c6QdOhS_Hjqx"
   },
   "outputs": [],
   "source": [
    "x = Flatten()(vgg.output)\n",
    "# x = Dense(1000, activation='relu')(x) # our layers - you can add more if you want\n",
    "prediction = Dense(len(folders), activation='softmax')(x)"
   ]
  },
  {
   "cell_type": "code",
   "execution_count": 9,
   "metadata": {
    "id": "kSp5waL0HoMY"
   },
   "outputs": [],
   "source": [
    "# create a model object\n",
    "model = Model(inputs=vgg.input, outputs=prediction)"
   ]
  },
  {
   "cell_type": "code",
   "execution_count": 10,
   "metadata": {
    "colab": {
     "base_uri": "https://localhost:8080/"
    },
    "id": "pQYEqKNiHqfs",
    "outputId": "cf95f26f-2f86-4eb5-8377-79cd4e3a5bfd"
   },
   "outputs": [
    {
     "name": "stdout",
     "output_type": "stream",
     "text": [
      "Model: \"model\"\n",
      "_________________________________________________________________\n",
      "Layer (type)                 Output Shape              Param #   \n",
      "=================================================================\n",
      "input_1 (InputLayer)         [(None, 224, 224, 3)]     0         \n",
      "_________________________________________________________________\n",
      "block1_conv1 (Conv2D)        (None, 224, 224, 64)      1792      \n",
      "_________________________________________________________________\n",
      "block1_conv2 (Conv2D)        (None, 224, 224, 64)      36928     \n",
      "_________________________________________________________________\n",
      "block1_pool (MaxPooling2D)   (None, 112, 112, 64)      0         \n",
      "_________________________________________________________________\n",
      "block2_conv1 (Conv2D)        (None, 112, 112, 128)     73856     \n",
      "_________________________________________________________________\n",
      "block2_conv2 (Conv2D)        (None, 112, 112, 128)     147584    \n",
      "_________________________________________________________________\n",
      "block2_pool (MaxPooling2D)   (None, 56, 56, 128)       0         \n",
      "_________________________________________________________________\n",
      "block3_conv1 (Conv2D)        (None, 56, 56, 256)       295168    \n",
      "_________________________________________________________________\n",
      "block3_conv2 (Conv2D)        (None, 56, 56, 256)       590080    \n",
      "_________________________________________________________________\n",
      "block3_conv3 (Conv2D)        (None, 56, 56, 256)       590080    \n",
      "_________________________________________________________________\n",
      "block3_conv4 (Conv2D)        (None, 56, 56, 256)       590080    \n",
      "_________________________________________________________________\n",
      "block3_pool (MaxPooling2D)   (None, 28, 28, 256)       0         \n",
      "_________________________________________________________________\n",
      "block4_conv1 (Conv2D)        (None, 28, 28, 512)       1180160   \n",
      "_________________________________________________________________\n",
      "block4_conv2 (Conv2D)        (None, 28, 28, 512)       2359808   \n",
      "_________________________________________________________________\n",
      "block4_conv3 (Conv2D)        (None, 28, 28, 512)       2359808   \n",
      "_________________________________________________________________\n",
      "block4_conv4 (Conv2D)        (None, 28, 28, 512)       2359808   \n",
      "_________________________________________________________________\n",
      "block4_pool (MaxPooling2D)   (None, 14, 14, 512)       0         \n",
      "_________________________________________________________________\n",
      "block5_conv1 (Conv2D)        (None, 14, 14, 512)       2359808   \n",
      "_________________________________________________________________\n",
      "block5_conv2 (Conv2D)        (None, 14, 14, 512)       2359808   \n",
      "_________________________________________________________________\n",
      "block5_conv3 (Conv2D)        (None, 14, 14, 512)       2359808   \n",
      "_________________________________________________________________\n",
      "block5_conv4 (Conv2D)        (None, 14, 14, 512)       2359808   \n",
      "_________________________________________________________________\n",
      "block5_pool (MaxPooling2D)   (None, 7, 7, 512)         0         \n",
      "_________________________________________________________________\n",
      "flatten (Flatten)            (None, 25088)             0         \n",
      "_________________________________________________________________\n",
      "dense (Dense)                (None, 2)                 50178     \n",
      "=================================================================\n",
      "Total params: 20,074,562\n",
      "Trainable params: 50,178\n",
      "Non-trainable params: 20,024,384\n",
      "_________________________________________________________________\n"
     ]
    }
   ],
   "source": [
    "# view the structure of the model\n",
    "model.summary()"
   ]
  },
  {
   "cell_type": "code",
   "execution_count": 11,
   "metadata": {
    "id": "Nq8VgxeSHspK"
   },
   "outputs": [],
   "source": [
    "model.compile(\n",
    "  loss='categorical_crossentropy',\n",
    "  optimizer='adam',\n",
    "  metrics=['accuracy']\n",
    ")"
   ]
  },
  {
   "cell_type": "code",
   "execution_count": 12,
   "metadata": {
    "colab": {
     "base_uri": "https://localhost:8080/"
    },
    "id": "6-M3rjmmHv0V",
    "outputId": "de7f1d09-3dab-4a9c-e4ba-f875914706b9"
   },
   "outputs": [
    {
     "name": "stdout",
     "output_type": "stream",
     "text": [
      "Found 416 images belonging to 2 classes.\n",
      "Found 134 images belonging to 2 classes.\n"
     ]
    }
   ],
   "source": [
    "from keras.preprocessing.image import ImageDataGenerator\n",
    "\n",
    "train_datagen = ImageDataGenerator(rescale = 1./255,\n",
    "                                   shear_range = 0.2,\n",
    "                                   zoom_range = 0.2,\n",
    "                                   horizontal_flip = True)\n",
    "\n",
    "test_datagen = ImageDataGenerator(rescale = 1./255)\n",
    "\n",
    "training_set = train_datagen.flow_from_directory('Dataset/Train',\n",
    "                                                 target_size = (224, 224),\n",
    "                                                 batch_size = 32,\n",
    "                                                 class_mode = 'categorical')\n",
    "\n",
    "test_set = test_datagen.flow_from_directory('Dataset/Test',\n",
    "                                            target_size = (224, 224),\n",
    "                                            batch_size = 32,\n",
    "                                            class_mode = 'categorical')"
   ]
  },
  {
   "cell_type": "code",
   "execution_count": 16,
   "metadata": {
    "colab": {
     "base_uri": "https://localhost:8080/"
    },
    "id": "DwBoRpWQH4SB",
    "outputId": "89dc6115-d389-42ca-9eca-0d9972efb416"
   },
   "outputs": [
    {
     "name": "stderr",
     "output_type": "stream",
     "text": [
      "/usr/local/lib/python3.6/dist-packages/tensorflow/python/keras/engine/training.py:1844: UserWarning: `Model.fit_generator` is deprecated and will be removed in a future version. Please use `Model.fit`, which supports generators.\n",
      "  warnings.warn('`Model.fit_generator` is deprecated and '\n"
     ]
    },
    {
     "name": "stdout",
     "output_type": "stream",
     "text": [
      "Epoch 1/30\n",
      "13/13 [==============================] - 6s 432ms/step - loss: 0.1661 - accuracy: 0.9399 - val_loss: 0.6255 - val_accuracy: 0.7164\n",
      "Epoch 2/30\n",
      "13/13 [==============================] - 6s 420ms/step - loss: 0.1779 - accuracy: 0.9327 - val_loss: 0.3574 - val_accuracy: 0.8134\n",
      "Epoch 3/30\n",
      "13/13 [==============================] - 6s 422ms/step - loss: 0.1494 - accuracy: 0.9447 - val_loss: 0.3095 - val_accuracy: 0.8433\n",
      "Epoch 4/30\n",
      "13/13 [==============================] - 6s 422ms/step - loss: 0.1863 - accuracy: 0.9231 - val_loss: 0.6058 - val_accuracy: 0.7537\n",
      "Epoch 5/30\n",
      "13/13 [==============================] - 6s 439ms/step - loss: 0.1790 - accuracy: 0.9327 - val_loss: 0.4238 - val_accuracy: 0.7761\n",
      "Epoch 6/30\n",
      "13/13 [==============================] - 6s 424ms/step - loss: 0.1383 - accuracy: 0.9399 - val_loss: 0.4544 - val_accuracy: 0.7612\n",
      "Epoch 7/30\n",
      "13/13 [==============================] - 6s 425ms/step - loss: 0.1081 - accuracy: 0.9712 - val_loss: 0.2281 - val_accuracy: 0.8955\n",
      "Epoch 8/30\n",
      "13/13 [==============================] - 6s 424ms/step - loss: 0.1309 - accuracy: 0.9519 - val_loss: 0.2641 - val_accuracy: 0.8881\n",
      "Epoch 9/30\n",
      "13/13 [==============================] - 6s 422ms/step - loss: 0.1035 - accuracy: 0.9712 - val_loss: 0.2307 - val_accuracy: 0.9030\n",
      "Epoch 10/30\n",
      "13/13 [==============================] - 6s 424ms/step - loss: 0.0857 - accuracy: 0.9712 - val_loss: 0.1829 - val_accuracy: 0.9478\n",
      "Epoch 11/30\n",
      "13/13 [==============================] - 6s 422ms/step - loss: 0.0944 - accuracy: 0.9639 - val_loss: 0.4790 - val_accuracy: 0.7836\n",
      "Epoch 12/30\n",
      "13/13 [==============================] - 5s 420ms/step - loss: 0.1145 - accuracy: 0.9519 - val_loss: 0.2469 - val_accuracy: 0.8881\n",
      "Epoch 13/30\n",
      "13/13 [==============================] - 5s 420ms/step - loss: 0.0932 - accuracy: 0.9808 - val_loss: 0.2193 - val_accuracy: 0.9030\n",
      "Epoch 14/30\n",
      "13/13 [==============================] - 5s 420ms/step - loss: 0.0742 - accuracy: 0.9832 - val_loss: 0.2113 - val_accuracy: 0.9030\n",
      "Epoch 15/30\n",
      "13/13 [==============================] - 6s 422ms/step - loss: 0.0953 - accuracy: 0.9736 - val_loss: 0.2765 - val_accuracy: 0.8881\n",
      "Epoch 16/30\n",
      "13/13 [==============================] - 6s 424ms/step - loss: 0.1025 - accuracy: 0.9736 - val_loss: 0.2492 - val_accuracy: 0.8955\n",
      "Epoch 17/30\n",
      "13/13 [==============================] - 6s 421ms/step - loss: 0.0867 - accuracy: 0.9760 - val_loss: 0.1836 - val_accuracy: 0.9179\n",
      "Epoch 18/30\n",
      "13/13 [==============================] - 6s 422ms/step - loss: 0.0748 - accuracy: 0.9904 - val_loss: 0.1786 - val_accuracy: 0.9328\n",
      "Epoch 19/30\n",
      "13/13 [==============================] - 6s 421ms/step - loss: 0.0759 - accuracy: 0.9832 - val_loss: 0.1977 - val_accuracy: 0.9030\n",
      "Epoch 20/30\n",
      "13/13 [==============================] - 5s 420ms/step - loss: 0.0971 - accuracy: 0.9639 - val_loss: 0.1698 - val_accuracy: 0.9254\n",
      "Epoch 21/30\n",
      "13/13 [==============================] - 6s 422ms/step - loss: 0.0769 - accuracy: 0.9784 - val_loss: 0.1753 - val_accuracy: 0.9328\n",
      "Epoch 22/30\n",
      "13/13 [==============================] - 6s 424ms/step - loss: 0.0743 - accuracy: 0.9832 - val_loss: 0.1759 - val_accuracy: 0.9179\n",
      "Epoch 23/30\n",
      "13/13 [==============================] - 6s 423ms/step - loss: 0.0770 - accuracy: 0.9688 - val_loss: 0.2893 - val_accuracy: 0.8657\n",
      "Epoch 24/30\n",
      "13/13 [==============================] - 6s 423ms/step - loss: 0.0840 - accuracy: 0.9663 - val_loss: 0.1781 - val_accuracy: 0.9104\n",
      "Epoch 25/30\n",
      "13/13 [==============================] - 6s 425ms/step - loss: 0.0797 - accuracy: 0.9784 - val_loss: 0.2462 - val_accuracy: 0.9104\n",
      "Epoch 26/30\n",
      "13/13 [==============================] - 5s 420ms/step - loss: 0.0590 - accuracy: 0.9856 - val_loss: 0.1736 - val_accuracy: 0.9179\n",
      "Epoch 27/30\n",
      "13/13 [==============================] - 6s 422ms/step - loss: 0.0752 - accuracy: 0.9808 - val_loss: 0.2126 - val_accuracy: 0.9104\n",
      "Epoch 28/30\n",
      "13/13 [==============================] - 5s 420ms/step - loss: 0.0706 - accuracy: 0.9832 - val_loss: 0.4209 - val_accuracy: 0.8060\n",
      "Epoch 29/30\n",
      "13/13 [==============================] - 6s 425ms/step - loss: 0.0626 - accuracy: 0.9832 - val_loss: 0.1902 - val_accuracy: 0.9179\n",
      "Epoch 30/30\n",
      "13/13 [==============================] - 6s 423ms/step - loss: 0.0655 - accuracy: 0.9832 - val_loss: 0.1972 - val_accuracy: 0.9179\n"
     ]
    }
   ],
   "source": [
    "# fit the model\n",
    "r = model.fit_generator(\n",
    "  training_set,\n",
    "  validation_data=test_set,\n",
    "  epochs = 30,\n",
    "  steps_per_epoch=len(training_set),\n",
    "  validation_steps=len(test_set)\n",
    ")"
   ]
  },
  {
   "cell_type": "code",
   "execution_count": null,
   "metadata": {
    "id": "faCSZXe2H7z6"
   },
   "outputs": [],
   "source": []
  },
  {
   "cell_type": "code",
   "execution_count": 17,
   "metadata": {
    "id": "yiFgYEatMtwK"
   },
   "outputs": [],
   "source": [
    "from keras.models import load_model\n",
    "model.save('malaria-cell-model.h5')"
   ]
  },
  {
   "cell_type": "code",
   "execution_count": 18,
   "metadata": {
    "colab": {
     "base_uri": "https://localhost:8080/",
     "height": 532
    },
    "id": "1CjUh4n9MzhB",
    "outputId": "33a24c62-a9e0-4cdb-8e2b-bec11e9ca919"
   },
   "outputs": [
    {
     "data": {
      "image/png": "[encoded data removed]",
      "text/plain": [
       "<Figure size 432x288 with 1 Axes>"
      ]
     },
     "metadata": {
      "needs_background": "light",
      "tags": []
     },
     "output_type": "display_data"
    },
    {
     "data": {
      "image/png": "[encoded data removed]",
      "text/plain": [
       "<Figure size 432x288 with 1 Axes>"
      ]
     },
     "metadata": {
      "needs_background": "light",
      "tags": []
     },
     "output_type": "display_data"
    },
    {
     "data": {
      "text/plain": [
       "<Figure size 432x288 with 0 Axes>"
      ]
     },
     "metadata": {
      "tags": []
     },
     "output_type": "display_data"
    }
   ],
   "source": [
    "# loss\n",
    "plt.plot(r.history['loss'], label='train loss')\n",
    "plt.plot(r.history['val_loss'], label='val loss')\n",
    "plt.legend()\n",
    "plt.show()\n",
    "plt.savefig('LossVal_loss')\n",
    "\n",
    "# accuracies\n",
    "plt.plot(r.history['accuracy'], label='train acc')\n",
    "plt.plot(r.history['val_accuracy'], label='val acc')\n",
    "plt.legend()\n",
    "plt.show()\n",
    "plt.savefig('AccVal_acc')"
   ]
  },
  {
   "cell_type": "code",
   "execution_count": null,
   "metadata": {
    "id": "WpPrPAa01BCo"
   },
   "outputs": [],
   "source": []
  }
 ],
 "metadata": {
  "accelerator": "GPU",
  "colab": {
   "collapsed_sections": [],
   "name": "Malaria_Cell.ipynb",
   "provenance": []
  },
  "kernelspec": {
   "display_name": "Python 3",
   "language": "python",
   "name": "python3"
  },
  "language_info": {
   "codemirror_mode": {
    "name": "ipython",
    "version": 3
   },
   "file_extension": ".py",
   "mimetype": "text/x-python",
   "name": "python",
   "nbconvert_exporter": "python",
   "pygments_lexer": "ipython3",
   "version": "3.6.12"
  }
 },
 "nbformat": 4,
 "nbformat_minor": 1
}
