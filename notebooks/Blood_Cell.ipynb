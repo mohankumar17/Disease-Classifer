{
  "nbformat": 4,
  "nbformat_minor": 0,
  "metadata": {
    "colab": {
      "name": "Blood_Cell.ipynb",
      "provenance": [],
      "collapsed_sections": []
    },
    "kernelspec": {
      "name": "python3",
      "display_name": "Python 3"
    },
    "accelerator": "GPU"
  },
  "cells": [
    {
      "cell_type": "code",
      "metadata": {
        "colab": {
          "base_uri": "https://localhost:8080/"
        },
        "id": "IkwvjAyZsbNT",
        "outputId": "253c036c-bf77-4a68-e004-d26f8c6f85cf"
      },
      "source": [
        "from zipfile import ZipFile\r\n",
        "file_name = 'drive/MyDrive/SDP_Datasets/blood-cell.zip'\r\n",
        "\r\n",
        "with ZipFile(file_name,'r') as zip:\r\n",
        "  zip.extractall()\r\n",
        "  print('Done')"
      ],
      "execution_count": 1,
      "outputs": [
        {
          "output_type": "stream",
          "text": [
            "Done\n"
          ],
          "name": "stdout"
        }
      ]
    },
    {
      "cell_type": "code",
      "metadata": {
        "id": "VI9_xmjqs2pJ"
      },
      "source": [
        "from keras.layers import Input, Lambda, Dense, Flatten\r\n",
        "from keras.models import Model\r\n",
        "from keras.applications.vgg16 import VGG16\r\n",
        "from keras.applications.vgg16 import preprocess_input\r\n",
        "from keras.preprocessing import image\r\n",
        "from keras.preprocessing.image import ImageDataGenerator\r\n",
        "from keras.models import Sequential\r\n",
        "import numpy as np\r\n",
        "from glob import glob\r\n",
        "import matplotlib.pyplot as plt"
      ],
      "execution_count": 40,
      "outputs": []
    },
    {
      "cell_type": "code",
      "metadata": {
        "id": "fFrm_dUmPSfb"
      },
      "source": [
        ""
      ],
      "execution_count": 40,
      "outputs": []
    },
    {
      "cell_type": "code",
      "metadata": {
        "id": "5qMRBPpttZCQ"
      },
      "source": [
        "# re-size all the images to this\r\n",
        "IMAGE_SIZE = [224, 224]"
      ],
      "execution_count": 41,
      "outputs": []
    },
    {
      "cell_type": "code",
      "metadata": {
        "id": "_HWzzZH7taK6"
      },
      "source": [
        "train_path = \"blood-cell/train\"\r\n",
        "valid_path = \"blood-cell/test\""
      ],
      "execution_count": 42,
      "outputs": []
    },
    {
      "cell_type": "code",
      "metadata": {
        "colab": {
          "base_uri": "https://localhost:8080/"
        },
        "id": "O8QXciEdtfjw",
        "outputId": "399c34d5-2e91-468b-b871-48ceb9cc9105"
      },
      "source": [
        "vgg = VGG16(input_shape=IMAGE_SIZE + [3], weights='imagenet', include_top=False)"
      ],
      "execution_count": 44,
      "outputs": [
        {
          "output_type": "stream",
          "text": [
            "Downloading data from https://storage.googleapis.com/tensorflow/keras-applications/vgg16/vgg16_weights_tf_dim_ordering_tf_kernels_notop.h5\n",
            "58892288/58889256 [==============================] - 0s 0us/step\n"
          ],
          "name": "stdout"
        }
      ]
    },
    {
      "cell_type": "code",
      "metadata": {
        "id": "VHyZqwKqtiL0"
      },
      "source": [
        "# Model is already trained, don't train existing weights again\r\n",
        "for layer in vgg.layers:\r\n",
        "    layer.trainable = False"
      ],
      "execution_count": 45,
      "outputs": []
    },
    {
      "cell_type": "code",
      "metadata": {
        "id": "F3OewXDLtk4a",
        "colab": {
          "base_uri": "https://localhost:8080/"
        },
        "outputId": "4449d367-7269-4eb1-d1e0-607026fa635c"
      },
      "source": [
        "# useful for getting number of classes of dataset\r\n",
        "folders = glob('blood-cell/train/*')\r\n",
        "len(folders)"
      ],
      "execution_count": 46,
      "outputs": [
        {
          "output_type": "execute_result",
          "data": {
            "text/plain": [
              "4"
            ]
          },
          "metadata": {
            "tags": []
          },
          "execution_count": 46
        }
      ]
    },
    {
      "cell_type": "code",
      "metadata": {
        "id": "DQevvAoltnVP"
      },
      "source": [
        "x = Flatten()(vgg.output)\r\n",
        "prediction = Dense(len(folders), activation='softmax')(x)"
      ],
      "execution_count": 47,
      "outputs": []
    },
    {
      "cell_type": "code",
      "metadata": {
        "id": "kK2ZdBnUtpEc"
      },
      "source": [
        "# create a model object\r\n",
        "model = Model(inputs=vgg.input, outputs=prediction)"
      ],
      "execution_count": 48,
      "outputs": []
    },
    {
      "cell_type": "code",
      "metadata": {
        "colab": {
          "base_uri": "https://localhost:8080/"
        },
        "id": "QxrTgr0StrC5",
        "outputId": "e9951ea9-34ab-449a-facf-d64117c00b4d"
      },
      "source": [
        "# view the structure of the model\r\n",
        "model.summary()"
      ],
      "execution_count": 49,
      "outputs": [
        {
          "output_type": "stream",
          "text": [
            "Model: \"model_2\"\n",
            "_________________________________________________________________\n",
            "Layer (type)                 Output Shape              Param #   \n",
            "=================================================================\n",
            "input_4 (InputLayer)         [(None, 224, 224, 3)]     0         \n",
            "_________________________________________________________________\n",
            "block1_conv1 (Conv2D)        (None, 224, 224, 64)      1792      \n",
            "_________________________________________________________________\n",
            "block1_conv2 (Conv2D)        (None, 224, 224, 64)      36928     \n",
            "_________________________________________________________________\n",
            "block1_pool (MaxPooling2D)   (None, 112, 112, 64)      0         \n",
            "_________________________________________________________________\n",
            "block2_conv1 (Conv2D)        (None, 112, 112, 128)     73856     \n",
            "_________________________________________________________________\n",
            "block2_conv2 (Conv2D)        (None, 112, 112, 128)     147584    \n",
            "_________________________________________________________________\n",
            "block2_pool (MaxPooling2D)   (None, 56, 56, 128)       0         \n",
            "_________________________________________________________________\n",
            "block3_conv1 (Conv2D)        (None, 56, 56, 256)       295168    \n",
            "_________________________________________________________________\n",
            "block3_conv2 (Conv2D)        (None, 56, 56, 256)       590080    \n",
            "_________________________________________________________________\n",
            "block3_conv3 (Conv2D)        (None, 56, 56, 256)       590080    \n",
            "_________________________________________________________________\n",
            "block3_pool (MaxPooling2D)   (None, 28, 28, 256)       0         \n",
            "_________________________________________________________________\n",
            "block4_conv1 (Conv2D)        (None, 28, 28, 512)       1180160   \n",
            "_________________________________________________________________\n",
            "block4_conv2 (Conv2D)        (None, 28, 28, 512)       2359808   \n",
            "_________________________________________________________________\n",
            "block4_conv3 (Conv2D)        (None, 28, 28, 512)       2359808   \n",
            "_________________________________________________________________\n",
            "block4_pool (MaxPooling2D)   (None, 14, 14, 512)       0         \n",
            "_________________________________________________________________\n",
            "block5_conv1 (Conv2D)        (None, 14, 14, 512)       2359808   \n",
            "_________________________________________________________________\n",
            "block5_conv2 (Conv2D)        (None, 14, 14, 512)       2359808   \n",
            "_________________________________________________________________\n",
            "block5_conv3 (Conv2D)        (None, 14, 14, 512)       2359808   \n",
            "_________________________________________________________________\n",
            "block5_pool (MaxPooling2D)   (None, 7, 7, 512)         0         \n",
            "_________________________________________________________________\n",
            "flatten_2 (Flatten)          (None, 25088)             0         \n",
            "_________________________________________________________________\n",
            "dense_2 (Dense)              (None, 4)                 100356    \n",
            "=================================================================\n",
            "Total params: 14,815,044\n",
            "Trainable params: 100,356\n",
            "Non-trainable params: 14,714,688\n",
            "_________________________________________________________________\n"
          ],
          "name": "stdout"
        }
      ]
    },
    {
      "cell_type": "code",
      "metadata": {
        "id": "d_C6JoxWttTC"
      },
      "source": [
        "model.compile(\r\n",
        "  loss='categorical_crossentropy',\r\n",
        "  optimizer='adam',\r\n",
        "  metrics=['accuracy']\r\n",
        ")"
      ],
      "execution_count": 50,
      "outputs": []
    },
    {
      "cell_type": "code",
      "metadata": {
        "colab": {
          "base_uri": "https://localhost:8080/"
        },
        "id": "1ciloQTctwQS",
        "outputId": "fce847eb-798a-421c-88fd-b4f02272e9be"
      },
      "source": [
        "from keras.preprocessing.image import ImageDataGenerator\r\n",
        "\r\n",
        "train_datagen = ImageDataGenerator(rescale=1./255,\r\n",
        "    shear_range=0.2,\r\n",
        "    zoom_range=0.2,\r\n",
        "    horizontal_flip=True,\r\n",
        "    validation_split=0.2) # set validation split\r\n",
        "\r\n",
        "training_set = train_datagen.flow_from_directory(\"blood-cell/train\",\r\n",
        "                                                 target_size = (224, 224),\r\n",
        "                                                 batch_size = 32,\r\n",
        "                                                 class_mode = 'categorical',\r\n",
        "                                                 subset='training')\r\n",
        "\r\n",
        "test_set = train_datagen.flow_from_directory(\"blood-cell/train\",\r\n",
        "                                            target_size = (224, 224),\r\n",
        "                                            batch_size = 32,\r\n",
        "                                            class_mode = 'categorical',\r\n",
        "                                            subset='validation')"
      ],
      "execution_count": 51,
      "outputs": [
        {
          "output_type": "stream",
          "text": [
            "Found 7968 images belonging to 4 classes.\n",
            "Found 1989 images belonging to 4 classes.\n"
          ],
          "name": "stdout"
        }
      ]
    },
    {
      "cell_type": "code",
      "metadata": {
        "colab": {
          "base_uri": "https://localhost:8080/"
        },
        "id": "mYzctc4Et06V",
        "outputId": "7157f0eb-46b7-401b-fea6-fe273c646c8e"
      },
      "source": [
        "# fit the model\r\n",
        "r = model.fit_generator(\r\n",
        "  training_set,\r\n",
        "  validation_data=test_set,\r\n",
        "  epochs = 20,\r\n",
        "  steps_per_epoch=len(training_set),\r\n",
        "  validation_steps=len(test_set)\r\n",
        ")"
      ],
      "execution_count": 52,
      "outputs": [
        {
          "output_type": "stream",
          "text": [
            "/usr/local/lib/python3.6/dist-packages/tensorflow/python/keras/engine/training.py:1844: UserWarning: `Model.fit_generator` is deprecated and will be removed in a future version. Please use `Model.fit`, which supports generators.\n",
            "  warnings.warn('`Model.fit_generator` is deprecated and '\n"
          ],
          "name": "stderr"
        },
        {
          "output_type": "stream",
          "text": [
            "Epoch 1/20\n",
            "249/249 [==============================] - 114s 448ms/step - loss: 1.3172 - accuracy: 0.4676 - val_loss: 0.7031 - val_accuracy: 0.7315\n",
            "Epoch 2/20\n",
            "249/249 [==============================] - 110s 444ms/step - loss: 0.5996 - accuracy: 0.7895 - val_loss: 0.6320 - val_accuracy: 0.7491\n",
            "Epoch 3/20\n",
            "249/249 [==============================] - 111s 444ms/step - loss: 0.4502 - accuracy: 0.8428 - val_loss: 0.4265 - val_accuracy: 0.8577\n",
            "Epoch 4/20\n",
            "249/249 [==============================] - 110s 443ms/step - loss: 0.3826 - accuracy: 0.8620 - val_loss: 0.3370 - val_accuracy: 0.8949\n",
            "Epoch 5/20\n",
            "249/249 [==============================] - 110s 443ms/step - loss: 0.3056 - accuracy: 0.8930 - val_loss: 0.3236 - val_accuracy: 0.8894\n",
            "Epoch 6/20\n",
            "249/249 [==============================] - 111s 444ms/step - loss: 0.2678 - accuracy: 0.9090 - val_loss: 0.2826 - val_accuracy: 0.8999\n",
            "Epoch 7/20\n",
            "249/249 [==============================] - 110s 443ms/step - loss: 0.2314 - accuracy: 0.9254 - val_loss: 0.3053 - val_accuracy: 0.8964\n",
            "Epoch 8/20\n",
            "249/249 [==============================] - 110s 443ms/step - loss: 0.2314 - accuracy: 0.9221 - val_loss: 0.4755 - val_accuracy: 0.8225\n",
            "Epoch 9/20\n",
            "249/249 [==============================] - 110s 443ms/step - loss: 0.2249 - accuracy: 0.9210 - val_loss: 0.4544 - val_accuracy: 0.8235\n",
            "Epoch 10/20\n",
            "249/249 [==============================] - 110s 442ms/step - loss: 0.2087 - accuracy: 0.9266 - val_loss: 0.2211 - val_accuracy: 0.9221\n",
            "Epoch 11/20\n",
            "249/249 [==============================] - 110s 443ms/step - loss: 0.1834 - accuracy: 0.9387 - val_loss: 0.2499 - val_accuracy: 0.9090\n",
            "Epoch 12/20\n",
            "249/249 [==============================] - 111s 445ms/step - loss: 0.1670 - accuracy: 0.9479 - val_loss: 0.2499 - val_accuracy: 0.9030\n",
            "Epoch 13/20\n",
            "249/249 [==============================] - 111s 444ms/step - loss: 0.1712 - accuracy: 0.9402 - val_loss: 0.2309 - val_accuracy: 0.9145\n",
            "Epoch 14/20\n",
            "249/249 [==============================] - 111s 445ms/step - loss: 0.1530 - accuracy: 0.9469 - val_loss: 0.2528 - val_accuracy: 0.9010\n",
            "Epoch 15/20\n",
            "249/249 [==============================] - 111s 444ms/step - loss: 0.1324 - accuracy: 0.9588 - val_loss: 0.2409 - val_accuracy: 0.9075\n",
            "Epoch 16/20\n",
            "249/249 [==============================] - 110s 444ms/step - loss: 0.1670 - accuracy: 0.9399 - val_loss: 0.1906 - val_accuracy: 0.9276\n",
            "Epoch 17/20\n",
            "249/249 [==============================] - 111s 445ms/step - loss: 0.1442 - accuracy: 0.9526 - val_loss: 0.2423 - val_accuracy: 0.8979\n",
            "Epoch 18/20\n",
            "249/249 [==============================] - 111s 444ms/step - loss: 0.1446 - accuracy: 0.9495 - val_loss: 0.2104 - val_accuracy: 0.9251\n",
            "Epoch 19/20\n",
            "249/249 [==============================] - 111s 444ms/step - loss: 0.1295 - accuracy: 0.9542 - val_loss: 0.3367 - val_accuracy: 0.8693\n",
            "Epoch 20/20\n",
            "249/249 [==============================] - 111s 446ms/step - loss: 0.1149 - accuracy: 0.9628 - val_loss: 0.1857 - val_accuracy: 0.9392\n"
          ],
          "name": "stdout"
        }
      ]
    },
    {
      "cell_type": "code",
      "metadata": {
        "id": "lNA0NvbZt4Nc"
      },
      "source": [
        "from keras.models import load_model\r\n",
        "model.save('blood-cell-model.h5')"
      ],
      "execution_count": 53,
      "outputs": []
    },
    {
      "cell_type": "code",
      "metadata": {
        "id": "FeiOtfIEx9mJ",
        "colab": {
          "base_uri": "https://localhost:8080/",
          "height": 531
        },
        "outputId": "ed12d6e8-fd8c-4d3a-cd51-1ada4ec195c3"
      },
      "source": [
        "# loss\r\n",
        "plt.plot(r.history['loss'], label='train loss')\r\n",
        "plt.plot(r.history['val_loss'], label='val loss')\r\n",
        "plt.legend()\r\n",
        "plt.show()\r\n",
        "plt.savefig('LossVal_loss')\r\n",
        "\r\n",
        "# accuracies\r\n",
        "plt.plot(r.history['accuracy'], label='train acc')\r\n",
        "plt.plot(r.history['val_accuracy'], label='val acc')\r\n",
        "plt.legend()\r\n",
        "plt.show()\r\n",
        "plt.savefig('AccVal_acc')"
      ],
      "execution_count": 54,
      "outputs": [
        {
          "output_type": "display_data",
          "data": {
            "image/png": "[encoded data removed]",
            "text/plain": [
              "<Figure size 432x288 with 1 Axes>"
            ]
          },
          "metadata": {
            "tags": [],
            "needs_background": "light"
          }
        },
        {
          "output_type": "display_data",
          "data": {
            "image/png": "[encoded data removed]",
            "text/plain": [
              "<Figure size 432x288 with 1 Axes>"
            ]
          },
          "metadata": {
            "tags": [],
            "needs_background": "light"
          }
        },
        {
          "output_type": "display_data",
          "data": {
            "text/plain": [
              "<Figure size 432x288 with 0 Axes>"
            ]
          },
          "metadata": {
            "tags": []
          }
        }
      ]
    },
    {
      "cell_type": "code",
      "metadata": {
        "id": "1dwjXvxulzkD"
      },
      "source": [
        ""
      ],
      "execution_count": null,
      "outputs": []
    }
  ]
}