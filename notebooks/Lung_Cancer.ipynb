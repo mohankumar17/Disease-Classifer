{
  "nbformat": 4,
  "nbformat_minor": 0,
  "metadata": {
    "colab": {
      "name": "Lung_Cancer.ipynb",
      "provenance": [],
      "collapsed_sections": []
    },
    "kernelspec": {
      "name": "python3",
      "display_name": "Python 3"
    },
    "accelerator": "GPU"
  },
  "cells": [
    {
      "cell_type": "code",
      "metadata": {
        "colab": {
          "base_uri": "https://localhost:8080/"
        },
        "id": "IkwvjAyZsbNT",
        "outputId": "72d82a13-fb1d-4285-f564-d189274afc67"
      },
      "source": [
        "from zipfile import ZipFile\r\n",
        "file_name = 'drive/MyDrive/SDP_Datasets/lung-cancer.zip'\r\n",
        "\r\n",
        "with ZipFile(file_name,'r') as zip:\r\n",
        "  zip.extractall()\r\n",
        "  print('Done')"
      ],
      "execution_count": 43,
      "outputs": [
        {
          "output_type": "stream",
          "text": [
            "Done\n"
          ],
          "name": "stdout"
        }
      ]
    },
    {
      "cell_type": "code",
      "metadata": {
        "id": "VI9_xmjqs2pJ"
      },
      "source": [
        "from keras.layers import Input, Lambda, Dense, Flatten\r\n",
        "from keras.models import Model\r\n",
        "from keras.applications.vgg16 import VGG16\r\n",
        "from keras.applications.vgg16 import preprocess_input\r\n",
        "from keras.preprocessing import image\r\n",
        "from keras.preprocessing.image import ImageDataGenerator\r\n",
        "from keras.models import Sequential\r\n",
        "import numpy as np\r\n",
        "from glob import glob\r\n",
        "import matplotlib.pyplot as plt"
      ],
      "execution_count": 44,
      "outputs": []
    },
    {
      "cell_type": "code",
      "metadata": {
        "id": "5qMRBPpttZCQ"
      },
      "source": [
        "# re-size all the images to this\r\n",
        "IMAGE_SIZE = [224, 224]"
      ],
      "execution_count": 45,
      "outputs": []
    },
    {
      "cell_type": "code",
      "metadata": {
        "id": "_HWzzZH7taK6"
      },
      "source": [
        "train_path = 'lung-cancer/Data/train'\r\n",
        "valid_path = 'lung-cancer/Data/test'"
      ],
      "execution_count": 46,
      "outputs": []
    },
    {
      "cell_type": "code",
      "metadata": {
        "id": "O8QXciEdtfjw"
      },
      "source": [
        "model_tl = VGG16(input_shape=IMAGE_SIZE + [3], weights='imagenet', include_top=False)\r\n",
        "# IMAGE_SIZE + [3] - RGB images"
      ],
      "execution_count": 47,
      "outputs": []
    },
    {
      "cell_type": "code",
      "metadata": {
        "id": "VHyZqwKqtiL0"
      },
      "source": [
        "# Model is already trained, don't train existing weights again\r\n",
        "for layer in model_tl.layers:\r\n",
        "    layer.trainable = False"
      ],
      "execution_count": 48,
      "outputs": []
    },
    {
      "cell_type": "code",
      "metadata": {
        "id": "F3OewXDLtk4a"
      },
      "source": [
        "# useful for getting number of classes of dataset\r\n",
        "folders = glob('lung-cancer/Data/train/*')"
      ],
      "execution_count": 49,
      "outputs": []
    },
    {
      "cell_type": "code",
      "metadata": {
        "colab": {
          "base_uri": "https://localhost:8080/"
        },
        "id": "HUvsKLJMO6Nj",
        "outputId": "24b4eeff-254b-49b0-bd6c-37573465c7c0"
      },
      "source": [
        "len(folders)"
      ],
      "execution_count": 50,
      "outputs": [
        {
          "output_type": "execute_result",
          "data": {
            "text/plain": [
              "4"
            ]
          },
          "metadata": {
            "tags": []
          },
          "execution_count": 50
        }
      ]
    },
    {
      "cell_type": "code",
      "metadata": {
        "id": "DQevvAoltnVP"
      },
      "source": [
        "x = Flatten()(model_tl.output)\r\n",
        "prediction = Dense(len(folders), activation='softmax')(x)"
      ],
      "execution_count": 51,
      "outputs": []
    },
    {
      "cell_type": "code",
      "metadata": {
        "id": "kK2ZdBnUtpEc"
      },
      "source": [
        "# create a model object\r\n",
        "model = Model(inputs=model_tl.input, outputs=prediction)"
      ],
      "execution_count": 52,
      "outputs": []
    },
    {
      "cell_type": "code",
      "metadata": {
        "colab": {
          "base_uri": "https://localhost:8080/"
        },
        "id": "QxrTgr0StrC5",
        "outputId": "f7c54d29-0c36-4f51-827f-aae625bf6b87"
      },
      "source": [
        "# view the structure of the model\r\n",
        "model.summary()"
      ],
      "execution_count": 53,
      "outputs": [
        {
          "output_type": "stream",
          "text": [
            "Model: \"model_3\"\n",
            "_________________________________________________________________\n",
            "Layer (type)                 Output Shape              Param #   \n",
            "=================================================================\n",
            "input_4 (InputLayer)         [(None, 224, 224, 3)]     0         \n",
            "_________________________________________________________________\n",
            "block1_conv1 (Conv2D)        (None, 224, 224, 64)      1792      \n",
            "_________________________________________________________________\n",
            "block1_conv2 (Conv2D)        (None, 224, 224, 64)      36928     \n",
            "_________________________________________________________________\n",
            "block1_pool (MaxPooling2D)   (None, 112, 112, 64)      0         \n",
            "_________________________________________________________________\n",
            "block2_conv1 (Conv2D)        (None, 112, 112, 128)     73856     \n",
            "_________________________________________________________________\n",
            "block2_conv2 (Conv2D)        (None, 112, 112, 128)     147584    \n",
            "_________________________________________________________________\n",
            "block2_pool (MaxPooling2D)   (None, 56, 56, 128)       0         \n",
            "_________________________________________________________________\n",
            "block3_conv1 (Conv2D)        (None, 56, 56, 256)       295168    \n",
            "_________________________________________________________________\n",
            "block3_conv2 (Conv2D)        (None, 56, 56, 256)       590080    \n",
            "_________________________________________________________________\n",
            "block3_conv3 (Conv2D)        (None, 56, 56, 256)       590080    \n",
            "_________________________________________________________________\n",
            "block3_pool (MaxPooling2D)   (None, 28, 28, 256)       0         \n",
            "_________________________________________________________________\n",
            "block4_conv1 (Conv2D)        (None, 28, 28, 512)       1180160   \n",
            "_________________________________________________________________\n",
            "block4_conv2 (Conv2D)        (None, 28, 28, 512)       2359808   \n",
            "_________________________________________________________________\n",
            "block4_conv3 (Conv2D)        (None, 28, 28, 512)       2359808   \n",
            "_________________________________________________________________\n",
            "block4_pool (MaxPooling2D)   (None, 14, 14, 512)       0         \n",
            "_________________________________________________________________\n",
            "block5_conv1 (Conv2D)        (None, 14, 14, 512)       2359808   \n",
            "_________________________________________________________________\n",
            "block5_conv2 (Conv2D)        (None, 14, 14, 512)       2359808   \n",
            "_________________________________________________________________\n",
            "block5_conv3 (Conv2D)        (None, 14, 14, 512)       2359808   \n",
            "_________________________________________________________________\n",
            "block5_pool (MaxPooling2D)   (None, 7, 7, 512)         0         \n",
            "_________________________________________________________________\n",
            "flatten_4 (Flatten)          (None, 25088)             0         \n",
            "_________________________________________________________________\n",
            "dense_4 (Dense)              (None, 4)                 100356    \n",
            "=================================================================\n",
            "Total params: 14,815,044\n",
            "Trainable params: 100,356\n",
            "Non-trainable params: 14,714,688\n",
            "_________________________________________________________________\n"
          ],
          "name": "stdout"
        }
      ]
    },
    {
      "cell_type": "code",
      "metadata": {
        "id": "d_C6JoxWttTC"
      },
      "source": [
        "model.compile(\r\n",
        "  loss='categorical_crossentropy',\r\n",
        "  optimizer='adam',\r\n",
        "  metrics=['accuracy']\r\n",
        ")"
      ],
      "execution_count": 54,
      "outputs": []
    },
    {
      "cell_type": "code",
      "metadata": {
        "colab": {
          "base_uri": "https://localhost:8080/"
        },
        "id": "1ciloQTctwQS",
        "outputId": "c6d47e50-785d-484f-e7e2-63fe62617d87"
      },
      "source": [
        "from keras.preprocessing.image import ImageDataGenerator\r\n",
        "\r\n",
        "train_datagen = ImageDataGenerator(rescale = 1./255,\r\n",
        "                                   shear_range = 0.2,\r\n",
        "                                   zoom_range = 0.2,\r\n",
        "                                   horizontal_flip = True)\r\n",
        "\r\n",
        "test_datagen = ImageDataGenerator(rescale = 1./255)\r\n",
        "\r\n",
        "training_set = train_datagen.flow_from_directory('lung-cancer/Data/train',\r\n",
        "                                                 target_size = (224, 224),\r\n",
        "                                                 batch_size = 32,\r\n",
        "                                                 class_mode = 'categorical')\r\n",
        "\r\n",
        "test_set = test_datagen.flow_from_directory('lung-cancer/Data/test',\r\n",
        "                                            target_size = (224, 224),\r\n",
        "                                            batch_size = 32,\r\n",
        "                                            class_mode = 'categorical')"
      ],
      "execution_count": 55,
      "outputs": [
        {
          "output_type": "stream",
          "text": [
            "Found 864 images belonging to 4 classes.\n",
            "Found 72 images belonging to 4 classes.\n"
          ],
          "name": "stdout"
        }
      ]
    },
    {
      "cell_type": "code",
      "metadata": {
        "colab": {
          "base_uri": "https://localhost:8080/"
        },
        "id": "mYzctc4Et06V",
        "outputId": "9e2787b6-a799-4966-a46b-4c352e70c4b6"
      },
      "source": [
        "# fit the model\r\n",
        "r = model.fit_generator(\r\n",
        "  training_set,\r\n",
        "  validation_data=test_set,\r\n",
        "  epochs = 30,\r\n",
        "  steps_per_epoch=len(training_set),\r\n",
        "  validation_steps=len(test_set)\r\n",
        ")"
      ],
      "execution_count": 56,
      "outputs": [
        {
          "output_type": "stream",
          "text": [
            "/usr/local/lib/python3.6/dist-packages/tensorflow/python/keras/engine/training.py:1844: UserWarning: `Model.fit_generator` is deprecated and will be removed in a future version. Please use `Model.fit`, which supports generators.\n",
            "  warnings.warn('`Model.fit_generator` is deprecated and '\n"
          ],
          "name": "stderr"
        },
        {
          "output_type": "stream",
          "text": [
            "Epoch 1/30\n",
            "27/27 [==============================] - 12s 413ms/step - loss: 1.8570 - accuracy: 0.4071 - val_loss: 1.0400 - val_accuracy: 0.5000\n",
            "Epoch 2/30\n",
            "27/27 [==============================] - 10s 386ms/step - loss: 0.7853 - accuracy: 0.6355 - val_loss: 0.9628 - val_accuracy: 0.5972\n",
            "Epoch 3/30\n",
            "27/27 [==============================] - 10s 384ms/step - loss: 0.5530 - accuracy: 0.7731 - val_loss: 0.6337 - val_accuracy: 0.7222\n",
            "Epoch 4/30\n",
            "27/27 [==============================] - 10s 384ms/step - loss: 0.4160 - accuracy: 0.8437 - val_loss: 0.5362 - val_accuracy: 0.7778\n",
            "Epoch 5/30\n",
            "27/27 [==============================] - 10s 386ms/step - loss: 0.3304 - accuracy: 0.9066 - val_loss: 0.4878 - val_accuracy: 0.8194\n",
            "Epoch 6/30\n",
            "27/27 [==============================] - 11s 389ms/step - loss: 0.2635 - accuracy: 0.9285 - val_loss: 0.5692 - val_accuracy: 0.7917\n",
            "Epoch 7/30\n",
            "27/27 [==============================] - 10s 384ms/step - loss: 0.2445 - accuracy: 0.9241 - val_loss: 0.4433 - val_accuracy: 0.8333\n",
            "Epoch 8/30\n",
            "27/27 [==============================] - 11s 390ms/step - loss: 0.2027 - accuracy: 0.9485 - val_loss: 0.4588 - val_accuracy: 0.8056\n",
            "Epoch 9/30\n",
            "27/27 [==============================] - 11s 387ms/step - loss: 0.1705 - accuracy: 0.9571 - val_loss: 0.4028 - val_accuracy: 0.8333\n",
            "Epoch 10/30\n",
            "27/27 [==============================] - 10s 386ms/step - loss: 0.1379 - accuracy: 0.9770 - val_loss: 0.4427 - val_accuracy: 0.8472\n",
            "Epoch 11/30\n",
            "27/27 [==============================] - 10s 385ms/step - loss: 0.1269 - accuracy: 0.9811 - val_loss: 0.4273 - val_accuracy: 0.8194\n",
            "Epoch 12/30\n",
            "27/27 [==============================] - 10s 386ms/step - loss: 0.1116 - accuracy: 0.9816 - val_loss: 0.3961 - val_accuracy: 0.8472\n",
            "Epoch 13/30\n",
            "27/27 [==============================] - 11s 388ms/step - loss: 0.1254 - accuracy: 0.9751 - val_loss: 0.3613 - val_accuracy: 0.8472\n",
            "Epoch 14/30\n",
            "27/27 [==============================] - 11s 388ms/step - loss: 0.1131 - accuracy: 0.9883 - val_loss: 0.3828 - val_accuracy: 0.8333\n",
            "Epoch 15/30\n",
            "27/27 [==============================] - 11s 388ms/step - loss: 0.0939 - accuracy: 0.9859 - val_loss: 0.4117 - val_accuracy: 0.8750\n",
            "Epoch 16/30\n",
            "27/27 [==============================] - 11s 387ms/step - loss: 0.0940 - accuracy: 0.9849 - val_loss: 0.3954 - val_accuracy: 0.8611\n",
            "Epoch 17/30\n",
            "27/27 [==============================] - 10s 386ms/step - loss: 0.1014 - accuracy: 0.9776 - val_loss: 0.3644 - val_accuracy: 0.8611\n",
            "Epoch 18/30\n",
            "27/27 [==============================] - 10s 386ms/step - loss: 0.0848 - accuracy: 0.9867 - val_loss: 0.3829 - val_accuracy: 0.8611\n",
            "Epoch 19/30\n",
            "27/27 [==============================] - 10s 387ms/step - loss: 0.0857 - accuracy: 0.9915 - val_loss: 0.4556 - val_accuracy: 0.8194\n",
            "Epoch 20/30\n",
            "27/27 [==============================] - 10s 386ms/step - loss: 0.0873 - accuracy: 0.9897 - val_loss: 0.4394 - val_accuracy: 0.8472\n",
            "Epoch 21/30\n",
            "27/27 [==============================] - 10s 384ms/step - loss: 0.0867 - accuracy: 0.9835 - val_loss: 0.4044 - val_accuracy: 0.8611\n",
            "Epoch 22/30\n",
            "27/27 [==============================] - 11s 389ms/step - loss: 0.0785 - accuracy: 0.9794 - val_loss: 0.4161 - val_accuracy: 0.8611\n",
            "Epoch 23/30\n",
            "27/27 [==============================] - 11s 392ms/step - loss: 0.0636 - accuracy: 0.9976 - val_loss: 0.4433 - val_accuracy: 0.8472\n",
            "Epoch 24/30\n",
            "27/27 [==============================] - 10s 386ms/step - loss: 0.0559 - accuracy: 0.9965 - val_loss: 0.3866 - val_accuracy: 0.8889\n",
            "Epoch 25/30\n",
            "27/27 [==============================] - 10s 387ms/step - loss: 0.0609 - accuracy: 0.9847 - val_loss: 0.3964 - val_accuracy: 0.8750\n",
            "Epoch 26/30\n",
            "27/27 [==============================] - 10s 385ms/step - loss: 0.0415 - accuracy: 0.9951 - val_loss: 0.3606 - val_accuracy: 0.8333\n",
            "Epoch 27/30\n",
            "27/27 [==============================] - 10s 385ms/step - loss: 0.0533 - accuracy: 0.9935 - val_loss: 0.3941 - val_accuracy: 0.8611\n",
            "Epoch 28/30\n",
            "27/27 [==============================] - 10s 385ms/step - loss: 0.0466 - accuracy: 0.9951 - val_loss: 0.3897 - val_accuracy: 0.8750\n",
            "Epoch 29/30\n",
            "27/27 [==============================] - 11s 388ms/step - loss: 0.0502 - accuracy: 0.9911 - val_loss: 0.3657 - val_accuracy: 0.8611\n",
            "Epoch 30/30\n",
            "27/27 [==============================] - 10s 386ms/step - loss: 0.0522 - accuracy: 0.9900 - val_loss: 0.3861 - val_accuracy: 0.8889\n"
          ],
          "name": "stdout"
        }
      ]
    },
    {
      "cell_type": "code",
      "metadata": {
        "id": "lNA0NvbZt4Nc"
      },
      "source": [
        "from keras.models import load_model\r\n",
        "model.save('lung-cancer-model.h5')"
      ],
      "execution_count": 57,
      "outputs": []
    },
    {
      "cell_type": "code",
      "metadata": {
        "id": "FeiOtfIEx9mJ",
        "colab": {
          "base_uri": "https://localhost:8080/",
          "height": 531
        },
        "outputId": "6d2e9cc7-bdbe-405b-fc45-feebae6a3402"
      },
      "source": [
        "# loss\r\n",
        "plt.plot(r.history['loss'], label='train loss')\r\n",
        "plt.plot(r.history['val_loss'], label='val loss')\r\n",
        "plt.legend()\r\n",
        "plt.show()\r\n",
        "plt.savefig('LossVal_loss')\r\n",
        "\r\n",
        "# accuracies\r\n",
        "plt.plot(r.history['accuracy'], label='train acc')\r\n",
        "plt.plot(r.history['val_accuracy'], label='val acc')\r\n",
        "plt.legend()\r\n",
        "plt.show()\r\n",
        "plt.savefig('AccVal_acc')"
      ],
      "execution_count": 58,
      "outputs": [
        {
          "output_type": "display_data",
          "data": {
            "image/png": "[encoded data removed]",
            "text/plain": [
              "<Figure size 432x288 with 1 Axes>"
            ]
          },
          "metadata": {
            "tags": [],
            "needs_background": "light"
          }
        },
        {
          "output_type": "display_data",
          "data": {
            "image/png": "[encoded data removed]",
            "text/plain": [
              "<Figure size 432x288 with 1 Axes>"
            ]
          },
          "metadata": {
            "tags": [],
            "needs_background": "light"
          }
        },
        {
          "output_type": "display_data",
          "data": {
            "text/plain": [
              "<Figure size 432x288 with 0 Axes>"
            ]
          },
          "metadata": {
            "tags": []
          }
        }
      ]
    },
    {
      "cell_type": "code",
      "metadata": {
        "id": "XE_ex-W3mcu_"
      },
      "source": [
        ""
      ],
      "execution_count": null,
      "outputs": []
    }
  ]
}